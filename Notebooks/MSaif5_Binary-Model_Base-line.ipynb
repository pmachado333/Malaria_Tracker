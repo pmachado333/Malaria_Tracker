{
 "cells": [
  {
   "cell_type": "markdown",
   "id": "55f595fc",
   "metadata": {
    "heading_collapsed": true
   },
   "source": [
    "# Modules import"
   ]
  },
  {
   "cell_type": "code",
   "execution_count": 2,
   "id": "732867e2",
   "metadata": {
    "hidden": true
   },
   "outputs": [],
   "source": [
    "import pandas as pd\n",
    "\n",
    "import numpy as np\n",
    "\n",
    "import matplotlib.pyplot as plt\n",
    "\n",
    "import seaborn as sns\n",
    "\n",
    "import os\n",
    "\n",
    "import PIL.Image"
   ]
  },
  {
   "cell_type": "markdown",
   "id": "b1b7c011",
   "metadata": {
    "hidden": true
   },
   "source": [
    "Data import"
   ]
  },
  {
   "cell_type": "code",
   "execution_count": 3,
   "id": "1fd60907",
   "metadata": {
    "hidden": true
   },
   "outputs": [],
   "source": [
    "img_dircetory = os.path.join('..', 'data', 'Binary_model', 'Images', 'malaria', 'images')"
   ]
  },
  {
   "cell_type": "code",
   "execution_count": 4,
   "id": "15375f6e",
   "metadata": {
    "hidden": true
   },
   "outputs": [],
   "source": [
    "images =  []\n",
    "\n",
    "for image in os.listdir(img_dircetory):\n",
    "    images.append(img_dircetory+'/'+image)"
   ]
  },
  {
   "cell_type": "code",
   "execution_count": 5,
   "id": "9f661dec",
   "metadata": {
    "hidden": true
   },
   "outputs": [],
   "source": [
    "json_dircetory = os.path.join('..', 'data', 'Binary_model', 'Images', 'malaria')"
   ]
  },
  {
   "cell_type": "code",
   "execution_count": 6,
   "id": "896f116c",
   "metadata": {
    "hidden": true
   },
   "outputs": [],
   "source": [
    "training_json_directory = json_dircetory+'/'+os.listdir(json_dircetory)[0]"
   ]
  },
  {
   "cell_type": "code",
   "execution_count": 7,
   "id": "90f03a41",
   "metadata": {
    "hidden": true
   },
   "outputs": [],
   "source": [
    "test_json_directory = json_dircetory+'/'+os.listdir(json_dircetory)[1]"
   ]
  },
  {
   "cell_type": "code",
   "execution_count": 8,
   "id": "6a90b9cb",
   "metadata": {
    "hidden": true
   },
   "outputs": [],
   "source": [
    "training_json = pd.read_json(training_json_directory)"
   ]
  },
  {
   "cell_type": "code",
   "execution_count": 9,
   "id": "eb150c67",
   "metadata": {
    "hidden": true
   },
   "outputs": [
    {
     "data": {
      "text/html": [
       "<div>\n",
       "<style scoped>\n",
       "    .dataframe tbody tr th:only-of-type {\n",
       "        vertical-align: middle;\n",
       "    }\n",
       "\n",
       "    .dataframe tbody tr th {\n",
       "        vertical-align: top;\n",
       "    }\n",
       "\n",
       "    .dataframe thead th {\n",
       "        text-align: right;\n",
       "    }\n",
       "</style>\n",
       "<table border=\"1\" class=\"dataframe\">\n",
       "  <thead>\n",
       "    <tr style=\"text-align: right;\">\n",
       "      <th></th>\n",
       "      <th>image</th>\n",
       "      <th>objects</th>\n",
       "    </tr>\n",
       "  </thead>\n",
       "  <tbody>\n",
       "    <tr>\n",
       "      <th>0</th>\n",
       "      <td>{'checksum': '676bb8e86fc2dbf05dd97d51a64ac0af...</td>\n",
       "      <td>[{'bounding_box': {'minimum': {'r': 1057, 'c':...</td>\n",
       "    </tr>\n",
       "    <tr>\n",
       "      <th>1</th>\n",
       "      <td>{'checksum': '1225a18efce159eddf7b0e80e0ea642c...</td>\n",
       "      <td>[{'bounding_box': {'minimum': {'r': 734, 'c': ...</td>\n",
       "    </tr>\n",
       "    <tr>\n",
       "      <th>2</th>\n",
       "      <td>{'checksum': '3eaf840523c30fdf38897ffa01e194eb...</td>\n",
       "      <td>[{'bounding_box': {'minimum': {'r': 724, 'c': ...</td>\n",
       "    </tr>\n",
       "    <tr>\n",
       "      <th>3</th>\n",
       "      <td>{'checksum': '8a111dffacfa433029492780b9535091...</td>\n",
       "      <td>[{'bounding_box': {'minimum': {'r': 563, 'c': ...</td>\n",
       "    </tr>\n",
       "    <tr>\n",
       "      <th>4</th>\n",
       "      <td>{'checksum': 'ccef403e971460b86444cca669e68ca1...</td>\n",
       "      <td>[{'bounding_box': {'minimum': {'r': 618, 'c': ...</td>\n",
       "    </tr>\n",
       "  </tbody>\n",
       "</table>\n",
       "</div>"
      ],
      "text/plain": [
       "                                               image  \\\n",
       "0  {'checksum': '676bb8e86fc2dbf05dd97d51a64ac0af...   \n",
       "1  {'checksum': '1225a18efce159eddf7b0e80e0ea642c...   \n",
       "2  {'checksum': '3eaf840523c30fdf38897ffa01e194eb...   \n",
       "3  {'checksum': '8a111dffacfa433029492780b9535091...   \n",
       "4  {'checksum': 'ccef403e971460b86444cca669e68ca1...   \n",
       "\n",
       "                                             objects  \n",
       "0  [{'bounding_box': {'minimum': {'r': 1057, 'c':...  \n",
       "1  [{'bounding_box': {'minimum': {'r': 734, 'c': ...  \n",
       "2  [{'bounding_box': {'minimum': {'r': 724, 'c': ...  \n",
       "3  [{'bounding_box': {'minimum': {'r': 563, 'c': ...  \n",
       "4  [{'bounding_box': {'minimum': {'r': 618, 'c': ...  "
      ]
     },
     "execution_count": 9,
     "metadata": {},
     "output_type": "execute_result"
    }
   ],
   "source": [
    "training_json.head()"
   ]
  },
  {
   "cell_type": "code",
   "execution_count": 10,
   "id": "25db8470",
   "metadata": {
    "hidden": true
   },
   "outputs": [],
   "source": [
    "test_json = pd.read_json(test_json_directory)"
   ]
  },
  {
   "cell_type": "markdown",
   "id": "7b691bc5",
   "metadata": {},
   "source": [
    "# Feature engineering"
   ]
  },
  {
   "cell_type": "code",
   "execution_count": 11,
   "id": "7bb673a6",
   "metadata": {},
   "outputs": [],
   "source": [
    "def objects(row):\n",
    "    things = []\n",
    "    for box in row:\n",
    "        things.append(box['category'])\n",
    "    return things\n",
    "   "
   ]
  },
  {
   "cell_type": "code",
   "execution_count": 12,
   "id": "fb5f7b82",
   "metadata": {},
   "outputs": [],
   "source": [
    "training_json['boxes'] = training_json.objects.apply(objects)"
   ]
  },
  {
   "cell_type": "code",
   "execution_count": 13,
   "id": "58103aa2",
   "metadata": {},
   "outputs": [],
   "source": [
    "def infected(lis):\n",
    "    stat = 0\n",
    "    for item in lis:\n",
    "        if item=='red blood cell':\n",
    "            stat = stat+0\n",
    "        elif item=='leukocytes':\n",
    "            stat = stat+0\n",
    "        else:\n",
    "            stat = stat+1\n",
    "            \n",
    "    if stat>0:\n",
    "        return 1\n",
    "    else:\n",
    "        return 0"
   ]
  },
  {
   "cell_type": "code",
   "execution_count": 14,
   "id": "ebd39f28",
   "metadata": {},
   "outputs": [],
   "source": [
    "training_json['infected'] = training_json.boxes.apply(infected)"
   ]
  },
  {
   "cell_type": "code",
   "execution_count": 15,
   "id": "cc3683ee",
   "metadata": {},
   "outputs": [
    {
     "data": {
      "text/plain": [
       "<AxesSubplot:xlabel='infected', ylabel='count'>"
      ]
     },
     "execution_count": 15,
     "metadata": {},
     "output_type": "execute_result"
    },
    {
     "data": {
      "image/png": "[encoded data removed]",
      "text/plain": [
       "<Figure size 640x480 with 1 Axes>"
      ]
     },
     "metadata": {},
     "output_type": "display_data"
    }
   ],
   "source": [
    "sns.countplot(x = training_json['infected'])"
   ]
  },
  {
   "cell_type": "code",
   "execution_count": 16,
   "id": "1a7fde06",
   "metadata": {},
   "outputs": [],
   "source": [
    "test_json['boxes'] = training_json.objects.apply(objects)"
   ]
  },
  {
   "cell_type": "code",
   "execution_count": 17,
   "id": "69a8ea0e",
   "metadata": {},
   "outputs": [],
   "source": [
    "test_json['infected'] = training_json.boxes.apply(infected)"
   ]
  },
  {
   "cell_type": "code",
   "execution_count": 18,
   "id": "75365fb3",
   "metadata": {},
   "outputs": [
    {
     "data": {
      "text/plain": [
       "<AxesSubplot:xlabel='infected', ylabel='count'>"
      ]
     },
     "execution_count": 18,
     "metadata": {},
     "output_type": "execute_result"
    },
    {
     "data": {
      "image/png": "[encoded data removed]",
      "text/plain": [
       "<Figure size 640x480 with 1 Axes>"
      ]
     },
     "metadata": {},
     "output_type": "display_data"
    }
   ],
   "source": [
    "sns.countplot(x = test_json['infected'])"
   ]
  },
  {
   "cell_type": "code",
   "execution_count": 19,
   "id": "e1e1d210",
   "metadata": {},
   "outputs": [],
   "source": [
    "path = img_dircetory = os.path.join('..', 'data', 'Binary_model', 'Images', 'malaria')"
   ]
  },
  {
   "cell_type": "code",
   "execution_count": 20,
   "id": "d4df28d3",
   "metadata": {},
   "outputs": [],
   "source": [
    "def getpath(col):\n",
    "    return path+col['pathname']"
   ]
  },
  {
   "cell_type": "code",
   "execution_count": 21,
   "id": "6ddee028",
   "metadata": {},
   "outputs": [],
   "source": [
    "#PIL.Image.open(path+training_json.image[0]['pathname'])"
   ]
  },
  {
   "cell_type": "code",
   "execution_count": 22,
   "id": "4b964c23",
   "metadata": {},
   "outputs": [],
   "source": [
    "training_json['image_path'] = training_json.image.apply(getpath)"
   ]
  },
  {
   "cell_type": "code",
   "execution_count": 23,
   "id": "10bc10ec",
   "metadata": {},
   "outputs": [],
   "source": [
    "test_json['image_path'] = test_json.image.apply(getpath)"
   ]
  },
  {
   "cell_type": "code",
   "execution_count": 24,
   "id": "a38af973",
   "metadata": {},
   "outputs": [],
   "source": [
    "def parsite_num(lis):\n",
    "    st = 0\n",
    "    for item in lis:\n",
    "        if item=='red blood cell':\n",
    "            st = st+0\n",
    "        elif item=='leukocytes':\n",
    "            st = st+0\n",
    "        else:\n",
    "            st = st+1\n",
    "            \n",
    "    return st"
   ]
  },
  {
   "cell_type": "code",
   "execution_count": 25,
   "id": "9d76b3f5",
   "metadata": {},
   "outputs": [],
   "source": [
    "training_json['number_parasite'] = training_json.boxes.apply(parsite_num)"
   ]
  },
  {
   "cell_type": "code",
   "execution_count": 26,
   "id": "ee5e8bcb",
   "metadata": {},
   "outputs": [],
   "source": [
    "test_json['number_parasite'] = test_json.boxes.apply(parsite_num)"
   ]
  },
  {
   "cell_type": "markdown",
   "id": "dce440bf",
   "metadata": {},
   "source": [
    "# Defining training and testing sets"
   ]
  },
  {
   "cell_type": "code",
   "execution_count": 27,
   "id": "dce2e50e",
   "metadata": {},
   "outputs": [
    {
     "name": "stderr",
     "output_type": "stream",
     "text": [
      "2023-05-26 15:53:44.097289: I tensorflow/tsl/cuda/cudart_stub.cc:28] Could not find cuda drivers on your machine, GPU will not be used.\n",
      "2023-05-26 15:53:44.241154: I tensorflow/tsl/cuda/cudart_stub.cc:28] Could not find cuda drivers on your machine, GPU will not be used.\n",
      "2023-05-26 15:53:44.242186: I tensorflow/core/platform/cpu_feature_guard.cc:182] This TensorFlow binary is optimized to use available CPU instructions in performance-critical operations.\n",
      "To enable the following instructions: AVX2 FMA, in other operations, rebuild TensorFlow with the appropriate compiler flags.\n",
      "2023-05-26 15:53:44.990583: W tensorflow/compiler/tf2tensorrt/utils/py_utils.cc:38] TF-TRT Warning: Could not find TensorRT\n"
     ]
    }
   ],
   "source": [
    "from tensorflow.keras.preprocessing.image import load_img, img_to_array\n",
    "import tensorflow as tf"
   ]
  },
  {
   "cell_type": "code",
   "execution_count": 28,
   "id": "34a8d0b8",
   "metadata": {},
   "outputs": [],
   "source": [
    "def load_and_preprocess_image(image_path, target_size):\n",
    "    # Load the image using PIL (Python Imaging Library)\n",
    "    image = load_img(image_path, target_size=target_size)\n",
    "    \n",
    "    # Convert the image to a NumPy array\n",
    "    image_array = img_to_array(image)\n",
    "    \n",
    "    # Preprocess the image (e.g., normalize pixel values)\n",
    "    preprocessed_image = tf.keras.applications.resnet50.preprocess_input(image_array)\n",
    "    \n",
    "    return preprocessed_image"
   ]
  },
  {
   "cell_type": "code",
   "execution_count": 29,
   "id": "2af20bd8",
   "metadata": {},
   "outputs": [],
   "source": [
    "training_image_paths = list(training_json['image_path'])\n",
    "target_size = (250, 250)  # Set your desired image size\n",
    "\n",
    "# Create an empty list to store the preprocessed images\n",
    "training_preprocessed_images = []\n",
    "\n",
    "# Iterate through the image paths\n",
    "for training_image_path in training_image_paths:\n",
    "    training_preprocessed_image = load_and_preprocess_image(training_image_path, target_size)\n",
    "    training_preprocessed_images.append(training_preprocessed_image)"
   ]
  },
  {
   "cell_type": "code",
   "execution_count": 30,
   "id": "6cad4db3",
   "metadata": {},
   "outputs": [],
   "source": [
    "def normalize_image(image):\n",
    "    min_val = np.min(image)\n",
    "    max_val = np.max(image)\n",
    "    \n",
    "    \n",
    "    # Perform min-max normalization\n",
    "    normalized_image = (image - min_val) / (max_val - min_val)\n",
    "    \n",
    "    \n",
    "    return normalized_image"
   ]
  },
  {
   "cell_type": "code",
   "execution_count": 30,
   "id": "bfe7befc",
   "metadata": {},
   "outputs": [],
   "source": [
    "normalized_images = []\n",
    "\n",
    "for image in training_preprocessed_images:\n",
    "    normalized_images.append(normalize_image(image))"
   ]
  },
  {
   "cell_type": "code",
   "execution_count": 31,
   "id": "d3cba7dc",
   "metadata": {},
   "outputs": [
    {
     "name": "stderr",
     "output_type": "stream",
     "text": [
      "2023-05-26 13:41:15.061004: I tensorflow/stream_executor/cuda/cuda_gpu_executor.cc:966] could not open file to read NUMA node: /sys/bus/pci/devices/0000:01:00.0/numa_node\n",
      "Your kernel may have been built without NUMA support.\n",
      "2023-05-26 13:41:15.063856: W tensorflow/stream_executor/platform/default/dso_loader.cc:64] Could not load dynamic library 'libcudart.so.11.0'; dlerror: libcudart.so.11.0: cannot open shared object file: No such file or directory\n",
      "2023-05-26 13:41:15.063909: W tensorflow/stream_executor/platform/default/dso_loader.cc:64] Could not load dynamic library 'libcublas.so.11'; dlerror: libcublas.so.11: cannot open shared object file: No such file or directory\n",
      "2023-05-26 13:41:15.063941: W tensorflow/stream_executor/platform/default/dso_loader.cc:64] Could not load dynamic library 'libcublasLt.so.11'; dlerror: libcublasLt.so.11: cannot open shared object file: No such file or directory\n",
      "2023-05-26 13:41:15.063972: W tensorflow/stream_executor/platform/default/dso_loader.cc:64] Could not load dynamic library 'libcufft.so.10'; dlerror: libcufft.so.10: cannot open shared object file: No such file or directory\n",
      "2023-05-26 13:41:15.064001: W tensorflow/stream_executor/platform/default/dso_loader.cc:64] Could not load dynamic library 'libcurand.so.10'; dlerror: libcurand.so.10: cannot open shared object file: No such file or directory\n",
      "2023-05-26 13:41:15.064030: W tensorflow/stream_executor/platform/default/dso_loader.cc:64] Could not load dynamic library 'libcusolver.so.11'; dlerror: libcusolver.so.11: cannot open shared object file: No such file or directory\n",
      "2023-05-26 13:41:15.064059: W tensorflow/stream_executor/platform/default/dso_loader.cc:64] Could not load dynamic library 'libcusparse.so.11'; dlerror: libcusparse.so.11: cannot open shared object file: No such file or directory\n",
      "2023-05-26 13:41:15.064088: W tensorflow/stream_executor/platform/default/dso_loader.cc:64] Could not load dynamic library 'libcudnn.so.8'; dlerror: libcudnn.so.8: cannot open shared object file: No such file or directory\n",
      "2023-05-26 13:41:15.064093: W tensorflow/core/common_runtime/gpu/gpu_device.cc:1934] Cannot dlopen some GPU libraries. Please make sure the missing libraries mentioned above are installed properly if you would like to use GPU. Follow the guide at https://www.tensorflow.org/install/gpu for how to download and setup the required libraries for your platform.\n",
      "Skipping registering GPU devices...\n",
      "2023-05-26 13:41:15.065966: I tensorflow/core/platform/cpu_feature_guard.cc:193] This TensorFlow binary is optimized with oneAPI Deep Neural Network Library (oneDNN) to use the following CPU instructions in performance-critical operations:  AVX2 FMA\n",
      "To enable them in other operations, rebuild TensorFlow with the appropriate compiler flags.\n"
     ]
    }
   ],
   "source": [
    "X_train = tf.convert_to_tensor(normalized_images)"
   ]
  },
  {
   "cell_type": "code",
   "execution_count": 62,
   "id": "ca774028",
   "metadata": {},
   "outputs": [],
   "source": [
    "test_image_paths = list(test_json['image_path'])\n",
    "\n",
    "# Create an empty list to store the preprocessed images\n",
    "test_preprocessed_images = []\n",
    "\n",
    "# Iterate through the image paths\n",
    "for test_image_path in test_image_paths:\n",
    "    test_preprocessed_image = load_and_preprocess_image(test_image_path, target_size)\n",
    "    test_preprocessed_images.append(test_preprocessed_image)"
   ]
  },
  {
   "cell_type": "code",
   "execution_count": 63,
   "id": "9ede4575",
   "metadata": {},
   "outputs": [],
   "source": [
    "test_normalized_images = []\n",
    "\n",
    "for image in test_preprocessed_images:\n",
    "    test_normalized_images.append(normalize_image(image))"
   ]
  },
  {
   "cell_type": "code",
   "execution_count": 64,
   "id": "c9986a6f",
   "metadata": {},
   "outputs": [],
   "source": [
    "X_test = tf.convert_to_tensor(test_normalized_images)"
   ]
  },
  {
   "cell_type": "code",
   "execution_count": 65,
   "id": "72c638c2",
   "metadata": {},
   "outputs": [],
   "source": [
    "y_train = training_json.infected"
   ]
  },
  {
   "cell_type": "code",
   "execution_count": 66,
   "id": "0d6f0943",
   "metadata": {},
   "outputs": [],
   "source": [
    "y_test = test_json.infected"
   ]
  },
  {
   "cell_type": "markdown",
   "id": "221ac67a",
   "metadata": {
    "heading_collapsed": true
   },
   "source": [
    "# Model building - Imbalanced Data"
   ]
  },
  {
   "cell_type": "code",
   "execution_count": 31,
   "id": "f109a475",
   "metadata": {
    "hidden": true
   },
   "outputs": [],
   "source": [
    "from tensorflow.keras import models, layers, regularizers\n",
    "\n",
    "from tensorflow.keras.callbacks import EarlyStopping"
   ]
  },
  {
   "cell_type": "code",
   "execution_count": 161,
   "id": "d6d390d5",
   "metadata": {
    "hidden": true
   },
   "outputs": [],
   "source": [
    "model = models.Sequential()\n",
    "\n",
    "\n",
    "model.add(layers.Conv2DTranspose(filters = 4, kernel_size = 4, activation = 'relu', input_shape = (250, 250, 3)))\n",
    "model.add(layers.BatchNormalization())\n",
    "model.add(layers.Dropout(0.2))\n",
    "model.add(layers.MaxPool2D(pool_size=(2,2)))\n",
    "\n",
    "model.add(layers.Conv2DTranspose(filters = 8, kernel_size = 4, activation = 'relu'))\n",
    "#model.add(layers.BatchNormalization())\n",
    "model.add(layers.Dropout(0.2))\n",
    "model.add(layers.MaxPool2D(pool_size=(2,2)))\n",
    "\n",
    "model.add(layers.Conv2DTranspose(filters = 16, kernel_size = 3, activation = 'relu'))\n",
    "#model.add(layers.BatchNormalization())\n",
    "model.add(layers.Dropout(0.2))\n",
    "model.add(layers.MaxPool2D(pool_size=(2,2)))\n",
    "\n",
    "model.add(layers.Conv2DTranspose(filters = 32, kernel_size = 2, activation = 'relu'))\n",
    "#model.add(layers.BatchNormalization())\n",
    "model.add(layers.Dropout(0.2))\n",
    "model.add(layers.MaxPool2D(pool_size=(2,2)))\n",
    "\n",
    "model.add(layers.Conv2DTranspose(filters = 64, kernel_size = 2, activation = 'relu'))\n",
    "#model.add(layers.BatchNormalization())\n",
    "model.add(layers.Dropout(0.2))\n",
    "model.add(layers.MaxPool2D(pool_size=(2,2)))\n",
    "\n",
    "model.add(layers.Conv2DTranspose(filters = 128, kernel_size = 2, activation = 'relu'))\n",
    "#model.add(layers.BatchNormalization())\n",
    "model.add(layers.Dropout(0.2))\n",
    "model.add(layers.MaxPool2D(pool_size=(2,2)))\n",
    "\n",
    "\n",
    "model.add(layers.Flatten())\n",
    "\n",
    "model.add(layers.Dense(10, activation = 'relu'))\n",
    "\n",
    "model.add(layers.Dense(1, activation = 'sigmoid'))\n"
   ]
  },
  {
   "cell_type": "code",
   "execution_count": 156,
   "id": "af7b6493",
   "metadata": {
    "hidden": true
   },
   "outputs": [
    {
     "name": "stdout",
     "output_type": "stream",
     "text": [
      "Model: \"sequential_18\"\n",
      "_________________________________________________________________\n",
      " Layer (type)                Output Shape              Param #   \n",
      "=================================================================\n",
      " conv2d_transpose_82 (Conv2D  (None, 258, 258, 4)      196       \n",
      " Transpose)                                                      \n",
      "                                                                 \n",
      " batch_normalization_58 (Bat  (None, 258, 258, 4)      16        \n",
      " chNormalization)                                                \n",
      "                                                                 \n",
      " dropout_82 (Dropout)        (None, 258, 258, 4)       0         \n",
      "                                                                 \n",
      " max_pooling2d_77 (MaxPoolin  (None, 129, 129, 4)      0         \n",
      " g2D)                                                            \n",
      "                                                                 \n",
      " conv2d_transpose_83 (Conv2D  (None, 132, 132, 8)      520       \n",
      " Transpose)                                                      \n",
      "                                                                 \n",
      " dropout_83 (Dropout)        (None, 132, 132, 8)       0         \n",
      "                                                                 \n",
      " max_pooling2d_78 (MaxPoolin  (None, 66, 66, 8)        0         \n",
      " g2D)                                                            \n",
      "                                                                 \n",
      " conv2d_transpose_84 (Conv2D  (None, 68, 68, 16)       1168      \n",
      " Transpose)                                                      \n",
      "                                                                 \n",
      " dropout_84 (Dropout)        (None, 68, 68, 16)        0         \n",
      "                                                                 \n",
      " max_pooling2d_79 (MaxPoolin  (None, 34, 34, 16)       0         \n",
      " g2D)                                                            \n",
      "                                                                 \n",
      " conv2d_transpose_85 (Conv2D  (None, 35, 35, 32)       2080      \n",
      " Transpose)                                                      \n",
      "                                                                 \n",
      " dropout_85 (Dropout)        (None, 35, 35, 32)        0         \n",
      "                                                                 \n",
      " max_pooling2d_80 (MaxPoolin  (None, 17, 17, 32)       0         \n",
      " g2D)                                                            \n",
      "                                                                 \n",
      " conv2d_transpose_86 (Conv2D  (None, 18, 18, 64)       8256      \n",
      " Transpose)                                                      \n",
      "                                                                 \n",
      " dropout_86 (Dropout)        (None, 18, 18, 64)        0         \n",
      "                                                                 \n",
      " max_pooling2d_81 (MaxPoolin  (None, 9, 9, 64)         0         \n",
      " g2D)                                                            \n",
      "                                                                 \n",
      " conv2d_transpose_87 (Conv2D  (None, 10, 10, 128)      32896     \n",
      " Transpose)                                                      \n",
      "                                                                 \n",
      " dropout_87 (Dropout)        (None, 10, 10, 128)       0         \n",
      "                                                                 \n",
      " max_pooling2d_82 (MaxPoolin  (None, 5, 5, 128)        0         \n",
      " g2D)                                                            \n",
      "                                                                 \n",
      " flatten_18 (Flatten)        (None, 3200)              0         \n",
      "                                                                 \n",
      " dense_36 (Dense)            (None, 10)                32010     \n",
      "                                                                 \n",
      " dense_37 (Dense)            (None, 1)                 11        \n",
      "                                                                 \n",
      "=================================================================\n",
      "Total params: 77,153\n",
      "Trainable params: 77,145\n",
      "Non-trainable params: 8\n",
      "_________________________________________________________________\n"
     ]
    }
   ],
   "source": [
    "model.summary()"
   ]
  },
  {
   "cell_type": "code",
   "execution_count": 162,
   "id": "a1f5e687",
   "metadata": {
    "hidden": true
   },
   "outputs": [],
   "source": [
    "model.compile(optimizer='adam',\n",
    "    loss='binary_crossentropy',\n",
    "    metrics=['accuracy', 'Recall', tf.keras.metrics.AUC()])"
   ]
  },
  {
   "cell_type": "code",
   "execution_count": 163,
   "id": "06ad71f3",
   "metadata": {
    "hidden": true
   },
   "outputs": [],
   "source": [
    "es = EarlyStopping(monitor='val_loss',\n",
    "    patience=5,\n",
    "    restore_best_weights=True)"
   ]
  },
  {
   "cell_type": "code",
   "execution_count": 164,
   "id": "45613184",
   "metadata": {
    "hidden": true
   },
   "outputs": [
    {
     "name": "stdout",
     "output_type": "stream",
     "text": [
      "Epoch 1/20\n",
      "27/27 [==============================] - 14s 492ms/step - loss: 0.5562 - accuracy: 0.7775 - recall: 0.9549 - auc_18: 0.4626 - val_loss: 0.6010 - val_accuracy: 0.9477 - val_recall: 1.0000 - val_auc_18: 0.7760\n",
      "Epoch 2/20\n",
      "27/27 [==============================] - 16s 583ms/step - loss: 0.4738 - accuracy: 0.8130 - recall: 1.0000 - auc_18: 0.5916 - val_loss: 0.5440 - val_accuracy: 0.9477 - val_recall: 1.0000 - val_auc_18: 0.7325\n",
      "Epoch 3/20\n",
      "27/27 [==============================] - 13s 481ms/step - loss: 0.4556 - accuracy: 0.8130 - recall: 1.0000 - auc_18: 0.6698 - val_loss: 0.4760 - val_accuracy: 0.9477 - val_recall: 1.0000 - val_auc_18: 0.7106\n",
      "Epoch 4/20\n",
      "27/27 [==============================] - 13s 493ms/step - loss: 0.4472 - accuracy: 0.8130 - recall: 1.0000 - auc_18: 0.6894 - val_loss: 0.3883 - val_accuracy: 0.9477 - val_recall: 1.0000 - val_auc_18: 0.7003\n",
      "Epoch 5/20\n",
      "27/27 [==============================] - 13s 486ms/step - loss: 0.4392 - accuracy: 0.8130 - recall: 1.0000 - auc_18: 0.7151 - val_loss: 0.4551 - val_accuracy: 0.9477 - val_recall: 1.0000 - val_auc_18: 0.7461\n",
      "Epoch 6/20\n",
      "27/27 [==============================] - 13s 490ms/step - loss: 0.4282 - accuracy: 0.8130 - recall: 1.0000 - auc_18: 0.7430 - val_loss: 0.4420 - val_accuracy: 0.9477 - val_recall: 1.0000 - val_auc_18: 0.7671\n",
      "Epoch 7/20\n",
      "27/27 [==============================] - 13s 491ms/step - loss: 0.4122 - accuracy: 0.8154 - recall: 0.9971 - auc_18: 0.7681 - val_loss: 0.3859 - val_accuracy: 0.9477 - val_recall: 1.0000 - val_auc_18: 0.7294\n",
      "Epoch 8/20\n",
      "27/27 [==============================] - 13s 485ms/step - loss: 0.4058 - accuracy: 0.8130 - recall: 0.9811 - auc_18: 0.7791 - val_loss: 0.5120 - val_accuracy: 0.9339 - val_recall: 0.9767 - val_auc_18: 0.7551\n",
      "Epoch 9/20\n",
      "27/27 [==============================] - 13s 488ms/step - loss: 0.3951 - accuracy: 0.8118 - recall: 0.9723 - auc_18: 0.8009 - val_loss: 0.3388 - val_accuracy: 0.9477 - val_recall: 1.0000 - val_auc_18: 0.7419\n",
      "Epoch 10/20\n",
      "27/27 [==============================] - 13s 494ms/step - loss: 0.3861 - accuracy: 0.8296 - recall: 0.9971 - auc_18: 0.8078 - val_loss: 0.3164 - val_accuracy: 0.9477 - val_recall: 1.0000 - val_auc_18: 0.7358\n",
      "Epoch 11/20\n",
      "27/27 [==============================] - 13s 489ms/step - loss: 0.3694 - accuracy: 0.8367 - recall: 0.9869 - auc_18: 0.8359 - val_loss: 0.3928 - val_accuracy: 0.9063 - val_recall: 0.9331 - val_auc_18: 0.7306\n",
      "Epoch 12/20\n",
      "27/27 [==============================] - 13s 487ms/step - loss: 0.3651 - accuracy: 0.8249 - recall: 0.9636 - auc_18: 0.8378 - val_loss: 0.3408 - val_accuracy: 0.9201 - val_recall: 0.9593 - val_auc_18: 0.7401\n",
      "Epoch 13/20\n",
      "27/27 [==============================] - 13s 483ms/step - loss: 0.3476 - accuracy: 0.8580 - recall: 0.9723 - auc_18: 0.8627 - val_loss: 0.4653 - val_accuracy: 0.8981 - val_recall: 0.9215 - val_auc_18: 0.7364\n",
      "Epoch 14/20\n",
      "27/27 [==============================] - 13s 482ms/step - loss: 0.3620 - accuracy: 0.8544 - recall: 0.9782 - auc_18: 0.8380 - val_loss: 0.2526 - val_accuracy: 0.9477 - val_recall: 1.0000 - val_auc_18: 0.7664\n",
      "Epoch 15/20\n",
      "27/27 [==============================] - 13s 488ms/step - loss: 0.3852 - accuracy: 0.8462 - recall: 0.9782 - auc_18: 0.8176 - val_loss: 0.1842 - val_accuracy: 0.9477 - val_recall: 1.0000 - val_auc_18: 0.7545\n",
      "Epoch 16/20\n",
      "27/27 [==============================] - 13s 484ms/step - loss: 0.3585 - accuracy: 0.8367 - recall: 0.9884 - auc_18: 0.8450 - val_loss: 0.3071 - val_accuracy: 0.9477 - val_recall: 0.9884 - val_auc_18: 0.8310\n",
      "Epoch 17/20\n",
      "27/27 [==============================] - 13s 483ms/step - loss: 0.3407 - accuracy: 0.8521 - recall: 0.9723 - auc_18: 0.8709 - val_loss: 0.3799 - val_accuracy: 0.9449 - val_recall: 0.9913 - val_auc_18: 0.7469\n",
      "Epoch 18/20\n",
      "27/27 [==============================] - 13s 486ms/step - loss: 0.3261 - accuracy: 0.8627 - recall: 0.9680 - auc_18: 0.8866 - val_loss: 0.2452 - val_accuracy: 0.9477 - val_recall: 1.0000 - val_auc_18: 0.7458\n",
      "Epoch 19/20\n",
      "27/27 [==============================] - 13s 483ms/step - loss: 0.3137 - accuracy: 0.8675 - recall: 0.9374 - auc_18: 0.8896 - val_loss: 0.3212 - val_accuracy: 0.9091 - val_recall: 0.9448 - val_auc_18: 0.7153\n",
      "Epoch 20/20\n",
      "27/27 [==============================] - 13s 486ms/step - loss: 0.2853 - accuracy: 0.8876 - recall: 0.9738 - auc_18: 0.9248 - val_loss: 0.3287 - val_accuracy: 0.9477 - val_recall: 0.9913 - val_auc_18: 0.6969\n"
     ]
    }
   ],
   "source": [
    "history = model.fit(x=X_train,\n",
    "    y=y_train,\n",
    "    epochs=20,\n",
    "    verbose='auto',\n",
    "    callbacks=[es],\n",
    "    validation_split=0.3)"
   ]
  },
  {
   "cell_type": "code",
   "execution_count": 168,
   "id": "1ec12384",
   "metadata": {
    "hidden": true
   },
   "outputs": [],
   "source": [
    "def plot_loss_auc(history, title=None):\n",
    "    fig, ax = plt.subplots(1,2, figsize=(20,9))\n",
    "\n",
    "    # --- LOSS --- \n",
    "\n",
    "    ax[0].plot(history.history['loss'])\n",
    "    ax[0].plot(history.history['val_loss'])\n",
    "\n",
    "    ax[0].set_title('Model loss')\n",
    "    ax[0].set_ylabel('Loss')\n",
    "    ax[0].set_xlabel('Epoch')\n",
    "\n",
    "    ax[0].set_ylim((0,1))\n",
    "\n",
    "    ax[0].legend(['Train', 'Test'], loc='best')\n",
    "\n",
    "    ax[0].grid(axis=\"x\",linewidth=0.5)\n",
    "    ax[0].grid(axis=\"y\",linewidth=0.5)\n",
    "\n",
    "    # --- ACCURACY\n",
    "\n",
    "    ax[1].plot(history.history['auc'])\n",
    "    ax[1].plot(history.history['val_auc'])\n",
    "\n",
    "    ax[1].set_title('Model auc')\n",
    "    ax[1].set_ylabel('auc')\n",
    "    ax[1].set_xlabel('Epoch')\n",
    "\n",
    "    ax[1].legend(['Train', 'Test'], loc='best')\n",
    "\n",
    "    ax[1].set_ylim((0,1))\n",
    "\n",
    "    ax[1].grid(axis=\"x\",linewidth=0.5)\n",
    "    ax[1].grid(axis=\"y\",linewidth=0.5)\n",
    "\n",
    "    if title:\n",
    "        fig.suptitle(title)"
   ]
  },
  {
   "cell_type": "code",
   "execution_count": 169,
   "id": "c00d55f4",
   "metadata": {
    "hidden": true
   },
   "outputs": [
    {
     "data": {
      "image/png": "[encoded data removed]",
      "text/plain": [
       "<Figure size 2000x900 with 2 Axes>"
      ]
     },
     "metadata": {},
     "output_type": "display_data"
    }
   ],
   "source": [
    "plot_loss_accuracy(history)"
   ]
  },
  {
   "cell_type": "code",
   "execution_count": 237,
   "id": "f4636233",
   "metadata": {
    "hidden": true
   },
   "outputs": [],
   "source": [
    "model.save('my_2nd_model.h5')"
   ]
  },
  {
   "cell_type": "code",
   "execution_count": 165,
   "id": "2c250a02",
   "metadata": {
    "hidden": true
   },
   "outputs": [
    {
     "name": "stdout",
     "output_type": "stream",
     "text": [
      "4/4 [==============================] - 1s 180ms/step - loss: 0.8658 - accuracy: 0.7583 - recall: 1.0000 - auc_18: 0.4998\n"
     ]
    },
    {
     "data": {
      "text/plain": [
       "[0.8657809495925903, 0.7583333253860474, 1.0, 0.4998105764389038]"
      ]
     },
     "execution_count": 165,
     "metadata": {},
     "output_type": "execute_result"
    }
   ],
   "source": [
    "model.evaluate(x=X_test_normalized,\n",
    "    y=y_test)"
   ]
  },
  {
   "cell_type": "markdown",
   "id": "18ffdccf",
   "metadata": {},
   "source": [
    "# Data Balance"
   ]
  },
  {
   "cell_type": "code",
   "execution_count": 38,
   "id": "7cead1f9",
   "metadata": {},
   "outputs": [],
   "source": [
    "from tensorflow.keras.preprocessing.image import ImageDataGenerator"
   ]
  },
  {
   "cell_type": "code",
   "execution_count": 39,
   "id": "b518a687",
   "metadata": {},
   "outputs": [],
   "source": [
    "datagen = ImageDataGenerator(\n",
    "    zoom_range=0.2,\n",
    "    brightness_range=(0.8, 1.3))\n",
    "\n",
    "# Generate augmented samples for the minority class\n",
    "minority_indices = np.where(y_train == 0)[0]\n",
    "augmented_images = []\n",
    "augmented_labels = []"
   ]
  },
  {
   "cell_type": "code",
   "execution_count": 40,
   "id": "edf9ef57",
   "metadata": {},
   "outputs": [],
   "source": [
    "for idx in minority_indices:\n",
    "    img = training_preprocessed_images[idx]\n",
    "    img = img.reshape((1,) + img.shape)\n",
    "    num_augmented_samples = 5  # Number of augmented samples per original sample\n",
    "\n",
    "    # Generate augmented samples\n",
    "    for _ in range(num_augmented_samples):\n",
    "        augmented_img = next(datagen.flow(img))\n",
    "        augmented_images.append(augmented_img[0])\n",
    "        augmented_labels.append(y_train[idx])\n",
    "\n",
    "# Convert augmented data to numpy arrays\n",
    "augmented_images = np.array(augmented_images)\n",
    "augmented_labels = np.array(augmented_labels)\n",
    "\n",
    "# Concatenate augmented data with original data\n",
    "training_preprocessed_images_balanced = np.concatenate((training_preprocessed_images, augmented_images), axis=0)\n",
    "y_train_balanced = np.concatenate((y_train, augmented_labels), axis=0)\n",
    "\n",
    "# Shuffle the balanced data\n",
    "shuffle_indices = np.random.permutation(len(training_preprocessed_images_balanced))\n",
    "training_preprocessed_images_balanced = training_preprocessed_images_balanced[shuffle_indices]\n",
    "y_train_balanced = y_train_balanced[shuffle_indices]"
   ]
  },
  {
   "cell_type": "code",
   "execution_count": 42,
   "id": "e9a30281",
   "metadata": {},
   "outputs": [],
   "source": [
    "balanced_normalized_images = []\n",
    "\n",
    "for image in training_preprocessed_images_balanced:\n",
    "    balanced_normalized_images.append(normalize_image(image))"
   ]
  },
  {
   "cell_type": "code",
   "execution_count": 43,
   "id": "e2a67e8a",
   "metadata": {},
   "outputs": [
    {
     "name": "stderr",
     "output_type": "stream",
     "text": [
      "2023-05-26 16:01:20.660032: I tensorflow/compiler/xla/stream_executor/cuda/cuda_gpu_executor.cc:982] could not open file to read NUMA node: /sys/bus/pci/devices/0000:01:00.0/numa_node\n",
      "Your kernel may have been built without NUMA support.\n",
      "2023-05-26 16:01:20.663667: W tensorflow/core/common_runtime/gpu/gpu_device.cc:1956] Cannot dlopen some GPU libraries. Please make sure the missing libraries mentioned above are installed properly if you would like to use GPU. Follow the guide at https://www.tensorflow.org/install/gpu for how to download and setup the required libraries for your platform.\n",
      "Skipping registering GPU devices...\n"
     ]
    }
   ],
   "source": [
    "X_train_balanced = tf.convert_to_tensor(balanced_normalized_images)"
   ]
  },
  {
   "cell_type": "code",
   "execution_count": 74,
   "id": "63dad734",
   "metadata": {},
   "outputs": [
    {
     "data": {
      "text/plain": [
       "2093"
      ]
     },
     "execution_count": 74,
     "metadata": {},
     "output_type": "execute_result"
    }
   ],
   "source": [
    "len(balanced_normalized_images)"
   ]
  },
  {
   "cell_type": "markdown",
   "id": "6646eb68",
   "metadata": {},
   "source": [
    "# Model building - Balanced Data"
   ]
  },
  {
   "cell_type": "code",
   "execution_count": 109,
   "id": "f5647f8a",
   "metadata": {},
   "outputs": [],
   "source": [
    "reg_l2 = regularizers.L2(0.01)\n",
    "\n",
    "reg_l1_l2 = regularizers.l1_l2(l1=0.005, l2=0.005)\n",
    "\n",
    "\n",
    "model_balanced = models.Sequential()\n",
    "\n",
    "\n",
    "model_balanced.add(layers.Conv2D(filters = 32, kernel_size = 3, activation = 'relu', input_shape = (250, 250, 3)))\n",
    "model_balanced.add(layers.BatchNormalization())\n",
    "model_balanced.add(layers.MaxPool2D(pool_size=(2,2)))\n",
    "\n",
    "\n",
    "model_balanced.add(layers.Conv2D(filters = 64, kernel_size = 3, activation = 'relu'))\n",
    "model_balanced.add(layers.BatchNormalization())\n",
    "model_balanced.add(layers.MaxPool2D(pool_size=(2,2)))\n",
    "\n",
    "model_balanced.add(layers.Conv2D(filters = 128, kernel_size = 2, activation = 'relu'))\n",
    "model_balanced.add(layers.BatchNormalization())\n",
    "model_balanced.add(layers.MaxPool2D(pool_size=(2,2)))\n",
    "\n",
    "\n",
    "model_balanced.add(layers.Conv2D(filters = 256, kernel_size = 2, activation = 'relu'))\n",
    "model_balanced.add(layers.BatchNormalization())\n",
    "model_balanced.add(layers.MaxPool2D(pool_size=(2,2)))\n",
    "\n",
    "\n",
    "#model_balanced.add(layers.Dropout(0.5))\n",
    "\n",
    "\n",
    "\n",
    "model_balanced.add(layers.Flatten())\n",
    "\n",
    "model_balanced.add(layers.Dense(128, activation = 'relu'))\n",
    "\n",
    "model_balanced.add(layers.Dense(32, activation = 'relu'))\n",
    "\n",
    "model_balanced.add(layers.Dense(8, activation = 'relu'))\n",
    "\n",
    "\n",
    "\n",
    "model_balanced.add(layers.Dense(1, activation = 'sigmoid'))"
   ]
  },
  {
   "cell_type": "code",
   "execution_count": 110,
   "id": "872edfaf",
   "metadata": {},
   "outputs": [
    {
     "name": "stdout",
     "output_type": "stream",
     "text": [
      "Model: \"sequential_6\"\n",
      "_________________________________________________________________\n",
      " Layer (type)                Output Shape              Param #   \n",
      "=================================================================\n",
      " conv2d_18 (Conv2D)          (None, 248, 248, 32)      896       \n",
      "                                                                 \n",
      " batch_normalization_18 (Bat  (None, 248, 248, 32)     128       \n",
      " chNormalization)                                                \n",
      "                                                                 \n",
      " max_pooling2d_18 (MaxPoolin  (None, 124, 124, 32)     0         \n",
      " g2D)                                                            \n",
      "                                                                 \n",
      " conv2d_19 (Conv2D)          (None, 122, 122, 64)      18496     \n",
      "                                                                 \n",
      " batch_normalization_19 (Bat  (None, 122, 122, 64)     256       \n",
      " chNormalization)                                                \n",
      "                                                                 \n",
      " max_pooling2d_19 (MaxPoolin  (None, 61, 61, 64)       0         \n",
      " g2D)                                                            \n",
      "                                                                 \n",
      " conv2d_20 (Conv2D)          (None, 60, 60, 128)       32896     \n",
      "                                                                 \n",
      " batch_normalization_20 (Bat  (None, 60, 60, 128)      512       \n",
      " chNormalization)                                                \n",
      "                                                                 \n",
      " max_pooling2d_20 (MaxPoolin  (None, 30, 30, 128)      0         \n",
      " g2D)                                                            \n",
      "                                                                 \n",
      " conv2d_21 (Conv2D)          (None, 29, 29, 256)       131328    \n",
      "                                                                 \n",
      " batch_normalization_21 (Bat  (None, 29, 29, 256)      1024      \n",
      " chNormalization)                                                \n",
      "                                                                 \n",
      " max_pooling2d_21 (MaxPoolin  (None, 14, 14, 256)      0         \n",
      " g2D)                                                            \n",
      "                                                                 \n",
      " flatten_6 (Flatten)         (None, 50176)             0         \n",
      "                                                                 \n",
      " dense_29 (Dense)            (None, 128)               6422656   \n",
      "                                                                 \n",
      " dense_30 (Dense)            (None, 32)                4128      \n",
      "                                                                 \n",
      " dense_31 (Dense)            (None, 8)                 264       \n",
      "                                                                 \n",
      " dense_32 (Dense)            (None, 1)                 9         \n",
      "                                                                 \n",
      "=================================================================\n",
      "Total params: 6,612,593\n",
      "Trainable params: 6,611,633\n",
      "Non-trainable params: 960\n",
      "_________________________________________________________________\n"
     ]
    }
   ],
   "source": [
    "model_balanced.summary()"
   ]
  },
  {
   "cell_type": "code",
   "execution_count": 111,
   "id": "2b4b1218",
   "metadata": {},
   "outputs": [],
   "source": [
    "model_balanced.compile(optimizer='adam',\n",
    "    loss='binary_crossentropy',\n",
    "    metrics=['accuracy', 'Recall', 'Precision'])"
   ]
  },
  {
   "cell_type": "code",
   "execution_count": 112,
   "id": "1b50c622",
   "metadata": {},
   "outputs": [],
   "source": [
    "es = EarlyStopping(monitor='val_loss',\n",
    "    patience=5,\n",
    "    restore_best_weights=True)"
   ]
  },
  {
   "cell_type": "code",
   "execution_count": 113,
   "id": "8a6ab826",
   "metadata": {},
   "outputs": [
    {
     "name": "stdout",
     "output_type": "stream",
     "text": [
      "Epoch 1/30\n",
      "92/92 [==============================] - 39s 416ms/step - loss: 0.9275 - accuracy: 0.5911 - recall: 0.5305 - precision: 0.5956 - val_loss: 1.0061 - val_accuracy: 0.5032 - val_recall: 0.8382 - val_precision: 0.4971\n",
      "Epoch 2/30\n",
      "92/92 [==============================] - 39s 425ms/step - loss: 0.5181 - accuracy: 0.7433 - recall: 0.7452 - precision: 0.7370 - val_loss: 0.9123 - val_accuracy: 0.5032 - val_recall: 0.9935 - val_precision: 0.4976\n",
      "Epoch 3/30\n",
      "92/92 [==============================] - 39s 424ms/step - loss: 0.3149 - accuracy: 0.8655 - recall: 0.8740 - precision: 0.8562 - val_loss: 0.7665 - val_accuracy: 0.5175 - val_recall: 0.0421 - val_precision: 0.6500\n",
      "Epoch 4/30\n",
      "92/92 [==============================] - 41s 448ms/step - loss: 0.2410 - accuracy: 0.9024 - recall: 0.8934 - precision: 0.9072 - val_loss: 2.2414 - val_accuracy: 0.5080 - val_recall: 0.0000e+00 - val_precision: 0.0000e+00\n",
      "Epoch 5/30\n",
      "92/92 [==============================] - 41s 443ms/step - loss: 0.1499 - accuracy: 0.9468 - recall: 0.9418 - precision: 0.9497 - val_loss: 3.0939 - val_accuracy: 0.5080 - val_recall: 0.0000e+00 - val_precision: 0.0000e+00\n",
      "Epoch 6/30\n",
      "92/92 [==============================] - 39s 428ms/step - loss: 0.1280 - accuracy: 0.9509 - recall: 0.9474 - precision: 0.9526 - val_loss: 3.8613 - val_accuracy: 0.5080 - val_recall: 0.0000e+00 - val_precision: 0.0000e+00\n",
      "Epoch 7/30\n",
      "92/92 [==============================] - 39s 425ms/step - loss: 0.1322 - accuracy: 0.9495 - recall: 0.9529 - precision: 0.9451 - val_loss: 5.7219 - val_accuracy: 0.5080 - val_recall: 0.0000e+00 - val_precision: 0.0000e+00\n",
      "Epoch 8/30\n",
      "92/92 [==============================] - 39s 426ms/step - loss: 0.0795 - accuracy: 0.9693 - recall: 0.9668 - precision: 0.9708 - val_loss: 0.2626 - val_accuracy: 0.9045 - val_recall: 0.8964 - val_precision: 0.9082\n",
      "Epoch 9/30\n",
      "92/92 [==============================] - 40s 432ms/step - loss: 0.0623 - accuracy: 0.9782 - recall: 0.9792 - precision: 0.9765 - val_loss: 10.9764 - val_accuracy: 0.5080 - val_recall: 0.0000e+00 - val_precision: 0.0000e+00\n",
      "Epoch 10/30\n",
      "92/92 [==============================] - 40s 430ms/step - loss: 0.0185 - accuracy: 0.9925 - recall: 0.9931 - precision: 0.9917 - val_loss: 1.3273 - val_accuracy: 0.7373 - val_recall: 0.4854 - val_precision: 0.9615\n",
      "Epoch 11/30\n",
      "92/92 [==============================] - 41s 442ms/step - loss: 0.0610 - accuracy: 0.9795 - recall: 0.9792 - precision: 0.9792 - val_loss: 3.2749 - val_accuracy: 0.6035 - val_recall: 0.1974 - val_precision: 0.9839\n",
      "Epoch 12/30\n",
      "92/92 [==============================] - 40s 433ms/step - loss: 0.0436 - accuracy: 0.9829 - recall: 0.9806 - precision: 0.9847 - val_loss: 2.7754 - val_accuracy: 0.5653 - val_recall: 0.9935 - val_precision: 0.5311\n",
      "Epoch 13/30\n",
      "92/92 [==============================] - 39s 426ms/step - loss: 0.0160 - accuracy: 0.9945 - recall: 0.9945 - precision: 0.9945 - val_loss: 6.5696 - val_accuracy: 0.5080 - val_recall: 0.0000e+00 - val_precision: 0.0000e+00\n"
     ]
    }
   ],
   "source": [
    "history_balanced = model_balanced.fit(x=X_train_balanced,\n",
    "    y=y_train_balanced,\n",
    "    batch_size = 16,\n",
    "    epochs=30,\n",
    "    verbose='auto',\n",
    "    callbacks=[es],\n",
    "    validation_split=0.3)"
   ]
  },
  {
   "cell_type": "code",
   "execution_count": 100,
   "id": "a6151d00",
   "metadata": {},
   "outputs": [
    {
     "name": "stdout",
     "output_type": "stream",
     "text": [
      "4/4 [==============================] - 5s 104ms/step - loss: 3.1365 - accuracy: 0.7417 - recall: 0.9780 - precision: 0.7542\n"
     ]
    },
    {
     "data": {
      "text/plain": [
       "[3.136486530303955, 0.7416666746139526, 0.9780219793319702, 0.7542372941970825]"
      ]
     },
     "execution_count": 100,
     "metadata": {},
     "output_type": "execute_result"
    }
   ],
   "source": [
    "model_balanced.evaluate(x=X_test,\n",
    "    y=y_test)\n"
   ]
  },
  {
   "cell_type": "code",
   "execution_count": 108,
   "id": "59af2fac",
   "metadata": {},
   "outputs": [],
   "source": [
    "model_balanced.save('3rd_balanced_model.h5')"
   ]
  },
  {
   "cell_type": "code",
   "execution_count": 106,
   "id": "d1d6897b",
   "metadata": {},
   "outputs": [],
   "source": [
    "def plot_loss_accuracy(history, title=None):\n",
    "    fig, ax = plt.subplots(1,2, figsize=(20,9))\n",
    "\n",
    "    # --- LOSS --- \n",
    "\n",
    "    ax[0].plot(history.history['loss'])\n",
    "    ax[0].plot(history.history['val_loss'])\n",
    "\n",
    "    ax[0].set_title('Model loss')\n",
    "    ax[0].set_ylabel('Loss')\n",
    "    ax[0].set_xlabel('Epoch')\n",
    "\n",
    "    ax[0].set_ylim((0,10))\n",
    "\n",
    "    ax[0].legend(['Train', 'Test'], loc='best')\n",
    "\n",
    "    ax[0].grid(axis=\"x\",linewidth=0.5)\n",
    "    ax[0].grid(axis=\"y\",linewidth=0.5)\n",
    "\n",
    "    # --- ACCURACY\n",
    "\n",
    "    ax[1].plot(history.history['accuracy'])\n",
    "    ax[1].plot(history.history['val_accuracy'])\n",
    "\n",
    "    ax[1].set_title('Model accuracy')\n",
    "    ax[1].set_ylabel('accuracy')\n",
    "    ax[1].set_xlabel('Epoch')\n",
    "\n",
    "    ax[1].legend(['Train', 'Test'], loc='best')\n",
    "\n",
    "    ax[1].set_ylim((0,1.2))\n",
    "\n",
    "    ax[1].grid(axis=\"x\",linewidth=0.5)\n",
    "    ax[1].grid(axis=\"y\",linewidth=0.5)\n",
    "\n",
    "    if title:\n",
    "        fig.suptitle(title)"
   ]
  },
  {
   "cell_type": "code",
   "execution_count": 107,
   "id": "98807ff0",
   "metadata": {},
   "outputs": [
    {
     "data": {
      "image/png": "[encoded data removed]",
      "text/plain": [
       "<Figure size 2000x900 with 2 Axes>"
      ]
     },
     "metadata": {},
     "output_type": "display_data"
    }
   ],
   "source": [
    "plot_loss_accuracy(history_balanced)"
   ]
  },
  {
   "cell_type": "code",
   "execution_count": 67,
   "id": "8b8ff354",
   "metadata": {},
   "outputs": [
    {
     "name": "stdout",
     "output_type": "stream",
     "text": [
      "4/4 [==============================] - 0s 93ms/step\n"
     ]
    },
    {
     "data": {
      "text/plain": [
       "array([[9.5277435e-01],\n",
       "       [9.9896425e-01],\n",
       "       [9.9872774e-01],\n",
       "       [9.9992424e-01],\n",
       "       [9.9996859e-01],\n",
       "       [4.4491622e-01],\n",
       "       [9.9967694e-01],\n",
       "       [9.9994481e-01],\n",
       "       [9.9901778e-01],\n",
       "       [9.9717444e-01],\n",
       "       [9.9032903e-01],\n",
       "       [5.0265700e-01],\n",
       "       [9.9993664e-01],\n",
       "       [9.5746815e-01],\n",
       "       [9.9999213e-01],\n",
       "       [9.9998492e-01],\n",
       "       [9.9993551e-01],\n",
       "       [9.9999964e-01],\n",
       "       [9.9997830e-01],\n",
       "       [9.9940699e-01],\n",
       "       [9.9999291e-01],\n",
       "       [9.9057591e-01],\n",
       "       [9.9215472e-01],\n",
       "       [9.9971849e-01],\n",
       "       [9.7206628e-01],\n",
       "       [9.9979544e-01],\n",
       "       [9.9983573e-01],\n",
       "       [9.9939048e-01],\n",
       "       [9.9980044e-01],\n",
       "       [7.6398456e-01],\n",
       "       [9.9999291e-01],\n",
       "       [9.9428916e-01],\n",
       "       [9.9972874e-01],\n",
       "       [9.9961561e-01],\n",
       "       [1.9133945e-06],\n",
       "       [9.9989998e-01],\n",
       "       [9.9538386e-01],\n",
       "       [9.9924940e-01],\n",
       "       [9.9929136e-01],\n",
       "       [9.9990249e-01],\n",
       "       [9.9904943e-01],\n",
       "       [9.9996901e-01],\n",
       "       [9.9997640e-01],\n",
       "       [9.9788004e-01],\n",
       "       [9.9990994e-01],\n",
       "       [9.9702144e-01],\n",
       "       [9.4112766e-01],\n",
       "       [9.9977958e-01],\n",
       "       [9.8798889e-01],\n",
       "       [9.0121806e-02],\n",
       "       [9.9982595e-01],\n",
       "       [9.9799675e-01],\n",
       "       [7.1690011e-01],\n",
       "       [9.9966604e-01],\n",
       "       [9.9697530e-01],\n",
       "       [9.9685967e-01],\n",
       "       [9.2665195e-01],\n",
       "       [8.3919191e-01],\n",
       "       [9.9631292e-01],\n",
       "       [9.4828653e-01],\n",
       "       [9.9992472e-01],\n",
       "       [9.9998945e-01],\n",
       "       [5.8837521e-01],\n",
       "       [9.7763395e-01],\n",
       "       [9.9683356e-01],\n",
       "       [7.5786060e-01],\n",
       "       [2.3732180e-02],\n",
       "       [9.9993849e-01],\n",
       "       [9.9616772e-01],\n",
       "       [9.9996334e-01],\n",
       "       [9.9969256e-01],\n",
       "       [9.9921167e-01],\n",
       "       [9.9988472e-01],\n",
       "       [4.1240913e-01],\n",
       "       [9.9110222e-01],\n",
       "       [9.9983639e-01],\n",
       "       [9.9997407e-01],\n",
       "       [2.2626537e-01],\n",
       "       [9.9999285e-01],\n",
       "       [8.6191577e-01],\n",
       "       [9.8701012e-01],\n",
       "       [9.9788690e-01],\n",
       "       [9.9996430e-01],\n",
       "       [9.8550504e-01],\n",
       "       [9.9994850e-01],\n",
       "       [9.9985594e-01],\n",
       "       [9.9874777e-01],\n",
       "       [9.9993086e-01],\n",
       "       [9.9980307e-01],\n",
       "       [9.9884778e-01],\n",
       "       [9.5630062e-01],\n",
       "       [9.9951673e-01],\n",
       "       [9.9998736e-01],\n",
       "       [9.7798109e-01],\n",
       "       [9.9986720e-01],\n",
       "       [9.9999768e-01],\n",
       "       [9.9983376e-01],\n",
       "       [9.9970746e-01],\n",
       "       [9.9998701e-01],\n",
       "       [9.9931532e-01],\n",
       "       [9.9867833e-01],\n",
       "       [9.5045567e-01],\n",
       "       [9.9842000e-01],\n",
       "       [9.9999994e-01],\n",
       "       [9.9195707e-01],\n",
       "       [9.9517065e-01],\n",
       "       [9.9998045e-01],\n",
       "       [9.9998540e-01],\n",
       "       [9.9993259e-01],\n",
       "       [9.9764961e-01],\n",
       "       [9.9999100e-01],\n",
       "       [9.9713719e-01],\n",
       "       [9.9520361e-01],\n",
       "       [9.9975586e-01],\n",
       "       [9.9972880e-01],\n",
       "       [9.9959040e-01],\n",
       "       [9.9998558e-01],\n",
       "       [9.9970609e-01],\n",
       "       [9.9958527e-01],\n",
       "       [9.9000418e-01]], dtype=float32)"
      ]
     },
     "execution_count": 67,
     "metadata": {},
     "output_type": "execute_result"
    }
   ],
   "source": [
    "model_balanced.predict(X_test)"
   ]
  },
  {
   "cell_type": "code",
   "execution_count": 120,
   "id": "c2165479",
   "metadata": {},
   "outputs": [
    {
     "data": {
      "text/plain": [
       "0      1\n",
       "1      0\n",
       "2      1\n",
       "3      1\n",
       "4      1\n",
       "      ..\n",
       "115    1\n",
       "116    1\n",
       "117    1\n",
       "118    0\n",
       "119    1\n",
       "Name: infected, Length: 120, dtype: int64"
      ]
     },
     "execution_count": 120,
     "metadata": {},
     "output_type": "execute_result"
    }
   ],
   "source": [
    "y_test"
   ]
  },
  {
   "cell_type": "code",
   "execution_count": 53,
   "id": "12ff33d0",
   "metadata": {},
   "outputs": [],
   "source": [
    "final_model = models.load_model('2nd_balanced_model.h5')"
   ]
  },
  {
   "cell_type": "code",
   "execution_count": 54,
   "id": "2fe9daf3",
   "metadata": {},
   "outputs": [
    {
     "name": "stdout",
     "output_type": "stream",
     "text": [
      "4/4 [==============================] - 0s 40ms/step\n"
     ]
    },
    {
     "data": {
      "text/plain": [
       "array([[0.49215278],\n",
       "       [0.493008  ],\n",
       "       [0.492832  ],\n",
       "       [0.49268413],\n",
       "       [0.49275702],\n",
       "       [0.4925212 ],\n",
       "       [0.49253127],\n",
       "       [0.49281985],\n",
       "       [0.49345276],\n",
       "       [0.49324566],\n",
       "       [0.491808  ],\n",
       "       [0.49251977],\n",
       "       [0.49313435],\n",
       "       [0.49298814],\n",
       "       [0.49328014],\n",
       "       [0.49277908],\n",
       "       [0.49287608],\n",
       "       [0.49307793],\n",
       "       [0.49351877],\n",
       "       [0.49332207],\n",
       "       [0.49323288],\n",
       "       [0.4926463 ],\n",
       "       [0.4922762 ],\n",
       "       [0.49344966],\n",
       "       [0.49317783],\n",
       "       [0.49312592],\n",
       "       [0.492703  ],\n",
       "       [0.49314094],\n",
       "       [0.49254844],\n",
       "       [0.49292326],\n",
       "       [0.49314347],\n",
       "       [0.49341246],\n",
       "       [0.49295986],\n",
       "       [0.493098  ],\n",
       "       [0.4930599 ],\n",
       "       [0.49301982],\n",
       "       [0.49274626],\n",
       "       [0.49267936],\n",
       "       [0.49325112],\n",
       "       [0.49255955],\n",
       "       [0.49279365],\n",
       "       [0.49321768],\n",
       "       [0.49351895],\n",
       "       [0.49343887],\n",
       "       [0.49322996],\n",
       "       [0.49304467],\n",
       "       [0.49248785],\n",
       "       [0.4930923 ],\n",
       "       [0.49319834],\n",
       "       [0.49323127],\n",
       "       [0.49289447],\n",
       "       [0.49259475],\n",
       "       [0.49301356],\n",
       "       [0.49313784],\n",
       "       [0.4930327 ],\n",
       "       [0.49281254],\n",
       "       [0.493524  ],\n",
       "       [0.49279955],\n",
       "       [0.49286318],\n",
       "       [0.49412817],\n",
       "       [0.49277166],\n",
       "       [0.49322546],\n",
       "       [0.4926204 ],\n",
       "       [0.493263  ],\n",
       "       [0.49236947],\n",
       "       [0.49279422],\n",
       "       [0.4932825 ],\n",
       "       [0.49316967],\n",
       "       [0.49279058],\n",
       "       [0.49289522],\n",
       "       [0.49278122],\n",
       "       [0.49331665],\n",
       "       [0.4926801 ],\n",
       "       [0.4932293 ],\n",
       "       [0.49309886],\n",
       "       [0.49231738],\n",
       "       [0.4930419 ],\n",
       "       [0.49353552],\n",
       "       [0.49291885],\n",
       "       [0.4937886 ],\n",
       "       [0.49292833],\n",
       "       [0.49308544],\n",
       "       [0.49313438],\n",
       "       [0.49347833],\n",
       "       [0.4923921 ],\n",
       "       [0.49350512],\n",
       "       [0.4930518 ],\n",
       "       [0.4931203 ],\n",
       "       [0.4923396 ],\n",
       "       [0.4929994 ],\n",
       "       [0.4926704 ],\n",
       "       [0.49280152],\n",
       "       [0.49263728],\n",
       "       [0.49336413],\n",
       "       [0.4921377 ],\n",
       "       [0.49251103],\n",
       "       [0.49251124],\n",
       "       [0.49279243],\n",
       "       [0.49259898],\n",
       "       [0.4936012 ],\n",
       "       [0.49292898],\n",
       "       [0.492474  ],\n",
       "       [0.49375603],\n",
       "       [0.49292728],\n",
       "       [0.49267694],\n",
       "       [0.49346322],\n",
       "       [0.4928239 ],\n",
       "       [0.49284735],\n",
       "       [0.49263358],\n",
       "       [0.4931349 ],\n",
       "       [0.4927027 ],\n",
       "       [0.4933991 ],\n",
       "       [0.4931072 ],\n",
       "       [0.4923481 ],\n",
       "       [0.49326435],\n",
       "       [0.49272275],\n",
       "       [0.49254838],\n",
       "       [0.49284795],\n",
       "       [0.49327627],\n",
       "       [0.49352598]], dtype=float32)"
      ]
     },
     "execution_count": 54,
     "metadata": {},
     "output_type": "execute_result"
    }
   ],
   "source": [
    "final_model.predict(X_test)"
   ]
  },
  {
   "cell_type": "code",
   "execution_count": null,
   "id": "d06f8d49",
   "metadata": {},
   "outputs": [],
   "source": []
  }
 ],
 "metadata": {
  "kernelspec": {
   "display_name": "Python 3 (ipykernel)",
   "language": "python",
   "name": "python3"
  },
  "language_info": {
   "codemirror_mode": {
    "name": "ipython",
    "version": 3
   },
   "file_extension": ".py",
   "mimetype": "text/x-python",
   "name": "python",
   "nbconvert_exporter": "python",
   "pygments_lexer": "ipython3",
   "version": "3.8.12"
  },
  "toc": {
   "base_numbering": 1,
   "nav_menu": {},
   "number_sections": true,
   "sideBar": true,
   "skip_h1_title": false,
   "title_cell": "Table of Contents",
   "title_sidebar": "Contents",
   "toc_cell": false,
   "toc_position": {},
   "toc_section_display": true,
   "toc_window_display": false
  },
  "varInspector": {
   "cols": {
    "lenName": 16,
    "lenType": 16,
    "lenVar": 40
   },
   "kernels_config": {
    "python": {
     "delete_cmd_postfix": "",
     "delete_cmd_prefix": "del ",
     "library": "var_list.py",
     "varRefreshCmd": "print(var_dic_list())"
    },
    "r": {
     "delete_cmd_postfix": ") ",
     "delete_cmd_prefix": "rm(",
     "library": "var_list.r",
     "varRefreshCmd": "cat(var_dic_list()) "
    }
   },
   "types_to_exclude": [
    "module",
    "function",
    "builtin_function_or_method",
    "instance",
    "_Feature"
   ],
   "window_display": false
  }
 },
 "nbformat": 4,
 "nbformat_minor": 5
}
