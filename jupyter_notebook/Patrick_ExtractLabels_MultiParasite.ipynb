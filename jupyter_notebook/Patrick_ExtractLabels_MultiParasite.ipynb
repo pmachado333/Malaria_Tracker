{
 "cells": [
  {
   "cell_type": "markdown",
   "id": "8a760a3c-5f5f-4901-aff4-b9b150148227",
   "metadata": {},
   "source": [
    "## Generate Bounding boxes based on mask images"
   ]
  },
  {
   "cell_type": "code",
   "execution_count": 90,
   "id": "a825f524-0c61-4533-8efd-5097eb1760a8",
   "metadata": {},
   "outputs": [
    {
     "name": "stdout",
     "output_type": "stream",
     "text": [
      "/home/pmachado3/code/DDS_bootcamp_project/Malaria_Tracker/jupyter_notebook\n"
     ]
    }
   ],
   "source": [
    "!pwd"
   ]
  },
  {
   "cell_type": "code",
   "execution_count": 91,
   "id": "cc94eac4-e4fa-4a5e-98d1-80ededfa28be",
   "metadata": {},
   "outputs": [],
   "source": [
    "import os\n",
    "\n",
    "directory_path_img = '../raw_data/task_2/MP-IDB-The-Malaria-Parasite-Image-Database-for-Image-Processing-and-Analysis-master/Vivax/img'\n",
    "directory_path_mask = '../raw_data/task_2/MP-IDB-The-Malaria-Parasite-Image-Database-for-Image-Processing-and-Analysis-master/Vivax/gt'\n",
    "pathlabels = '../raw_data/task_2/MP-IDB-The-Malaria-Parasite-Image-Database-for-Image-Processing-and-Analysis-master/Vivax/labels'\n",
    "\n",
    "root = '../raw_data/task_2/MP-IDB-The-Malaria-Parasite-Image-Database-for-Image-Processing-and-Analysis-master'\n",
    "\n",
    "pathimg = os.listdir(directory_path_img)\n",
    "pathmask = os.listdir(directory_path_mask)\n",
    "\n",
    "index = 3\n"
   ]
  },
  {
   "cell_type": "code",
   "execution_count": 92,
   "id": "dfb6dbaf-bf07-4d6e-8444-3bb9f15d3758",
   "metadata": {},
   "outputs": [
    {
     "name": "stdout",
     "output_type": "stream",
     "text": [
      "['1703121298-0012-G_R', '1703121298-0008-G', '1709041080-0033-S', '1709041080-0031-S', '1709041080-0018-R', '1709041080-0029-T', '1709041080-0021-R_T', '1709041080-0014-R', '1709041080-0020-R', '1709041080-0038-S', '1709041080-0023-R', '1703121298-0009-R', '1703121298-0001-G_R', '1709041080-0037-S', '1709041080-0028-T', '1709041080-0036-S_R', '1709041080-0017-R', '1709041080-0015-R', '1709041080-0027-R', '1703121298-0007-R', '1709041080-0024-R', '1703121298-0002-S', '1703121298-0005-R', '1709041080-0019-R', '1703121298-0003-R', '1709041080-0035-S', '1703121298-0006-R', '1703121298-0004-R', '1703121298-0016-G', '1709041080-0025-R_T', '1709041080-0032-S', '1709041080-0030-S', '1709041080-0034-R', '1703121298-0015-R', '1709041080-0016-S', '1703121298-0011-R', '1709041080-0013-R', '1709041080-0022-T', '1703121298-0017-R', '1703121298-0010-G']\n"
     ]
    }
   ],
   "source": [
    "list_names = []\n",
    "for each_img in pathimg:\n",
    "    tmp_img = each_img.replace('.jpg', '')\n",
    "    tmp_img = tmp_img.replace('.png', '')\n",
    "    list_names.append(tmp_img)\n",
    "\n",
    "print(list_names)"
   ]
  },
  {
   "cell_type": "code",
   "execution_count": 93,
   "id": "65a7bffa-5a92-4793-8a6c-7fb5c9870d17",
   "metadata": {},
   "outputs": [],
   "source": [
    "import glob\n",
    "\n",
    "files_dict = {}\n",
    "\n",
    "# Define the directory path where the files are located\n",
    "# Define the base filename (without extension) to search for\n",
    "for file_root in list_names:\n",
    "\n",
    "\n",
    "    base_filename = file_root\n",
    "    \n",
    "# Construct the search pattern\n",
    "    search_pattern_img = f'{directory_path_img}/{base_filename}.*'\n",
    "    search_pattern_mask = f'{directory_path_mask}/{base_filename}.*'\n",
    "\n",
    "# Use glob to find files matching the pattern\n",
    "    matching_files_img = glob.glob(search_pattern_img)\n",
    "    matching_files_mask = glob.glob(search_pattern_mask)\n",
    "    \n",
    "    \n",
    "    tmp_list=[]\n",
    "# Print the matching files\n",
    "    for file_path in matching_files_img:\n",
    "        tmp_list.append(file_path)\n",
    "        \n",
    "    for file_path in matching_files_mask:\n",
    "        tmp_list.append(file_path)\n",
    "        \n",
    "    \n",
    "    files_dict[file_root] = tmp_list\n"
   ]
  },
  {
   "cell_type": "code",
   "execution_count": 94,
   "id": "82d97c30-309d-42f7-a987-f00506c0839b",
   "metadata": {},
   "outputs": [],
   "source": [
    "keys_todel = []\n",
    "for value in files_dict.keys():\n",
    "    if len(files_dict[value]) < 2:\n",
    "        keys_todel.append(value)\n",
    "        \n",
    "if len(keys_todel) >0:\n",
    "    for eachval in keys_todel:\n",
    "        del files_dict[eachval]\n",
    "        \n",
    "# for value in files_dict.keys():\n",
    "#     print(len(files_dict[value]))\n",
    "        "
   ]
  },
  {
   "cell_type": "code",
   "execution_count": 95,
   "id": "3a11039f-fbe7-4753-beae-d9ff055ed1d4",
   "metadata": {},
   "outputs": [],
   "source": [
    "import cv2\n",
    "\n",
    "dict_bbox = {}\n",
    "\n",
    "for each_imgroot in files_dict.keys():\n",
    "    tmp_list = files_dict[each_imgroot]\n",
    "# Load the image mask (assumed to be a binary image)\n",
    "    image_mask = cv2.imread(tmp_list[1], 0)  # 0 flag loads the image as grayscale\n",
    "\n",
    "# Find contours\n",
    "    contours, _ = cv2.findContours(image_mask, cv2.RETR_EXTERNAL, cv2.CHAIN_APPROX_SIMPLE)\n",
    "\n",
    "# Initialize an empty list to store bounding boxes\n",
    "    bounding_boxes = []\n",
    "\n",
    "# Iterate over the contours\n",
    "    tmp_contours = []\n",
    "    for contour in contours:\n",
    "        # Calculate the bounding rectangle for the contour\n",
    "        x, y, w, h = cv2.boundingRect(contour)\n",
    "        if w >2 and h >2:\n",
    "            tmp_contours.append((x/2592, y/1944, w/2592, h/1944))\n",
    "            # dict_bbox[each_imgroot] = (x/2592, y/1944, w/2592, h/1944)\n",
    "    \n",
    "    dict_bbox[each_imgroot] = tmp_contours\n",
    "            # bounding_boxes.append((x, y, w, h))\n",
    "\n",
    "    # Print the bounding boxes\n",
    "    # for bbox in bounding_boxes:\n",
    "    #     print(\"Bounding Box:\", bbox)\n"
   ]
  },
  {
   "cell_type": "code",
   "execution_count": 96,
   "id": "7e9d17ae-e0b2-4b6b-8407-f7f57a75f072",
   "metadata": {},
   "outputs": [],
   "source": [
    "for imageroot in dict_bbox.keys():\n",
    "    \n",
    "    with open(pathlabels + '/' + imageroot + '.txt', 'w') as f:\n",
    "                for eachline in dict_bbox[imageroot]:\n",
    "                    f.write(str(index) + ' ')\n",
    "                    for parameter in eachline:\n",
    "                        f.write(str(parameter) + ' ')\n",
    "                    \n",
    "                    f.write('\\n')"
   ]
  },
  {
   "cell_type": "code",
   "execution_count": 97,
   "id": "71195325-85cf-495a-a1e6-149b8c4aeda5",
   "metadata": {},
   "outputs": [],
   "source": [
    "# import cv2\n",
    "# import matplotlib.pyplot as plt\n",
    "\n",
    "# # Load the image\n",
    "# image = cv2.imread('../raw_data/task_2/MP-IDB-The-Malaria-Parasite-Image-Database-for-Image-Processing-and-Analysis-master/Falciparum/img/1305121398-0001-R_S.jpg')\n",
    "\n",
    "# # Draw bounding boxes on the image\n",
    "# for bbox in bounding_boxes:\n",
    "#     x, y, w, h = bbox\n",
    "#     cv2.rectangle(image, (x, y), (x + w, y + h), (0, 255, 0), 2)  # Draw a green rectangle\n",
    "\n",
    "# # Convert the image from BGR to RGB (Matplotlib expects RGB format)\n",
    "# image = cv2.cvtColor(image, cv2.COLOR_BGR2RGB)\n",
    "\n",
    "# # Plot the image with bounding boxes\n",
    "# plt.imshow(image)\n",
    "# plt.axis('off')  # Turn off the axis\n",
    "# plt.show()\n"
   ]
  }
 ],
 "metadata": {
  "kernelspec": {
   "display_name": "Python 3 (ipykernel)",
   "language": "python",
   "name": "python3"
  },
  "language_info": {
   "codemirror_mode": {
    "name": "ipython",
    "version": 3
   },
   "file_extension": ".py",
   "mimetype": "text/x-python",
   "name": "python",
   "nbconvert_exporter": "python",
   "pygments_lexer": "ipython3",
   "version": "3.8.12"
  }
 },
 "nbformat": 4,
 "nbformat_minor": 5
}
