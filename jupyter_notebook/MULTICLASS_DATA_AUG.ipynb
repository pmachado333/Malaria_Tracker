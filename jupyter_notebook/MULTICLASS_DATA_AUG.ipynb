{
 "cells": [
  {
   "cell_type": "markdown",
   "id": "afdf50c4-0d35-401e-935a-f4c772e851e2",
   "metadata": {},
   "source": [
    "## Data Augmentation for brightness"
   ]
  },
  {
   "cell_type": "code",
   "execution_count": 3,
   "id": "2abfb47e-9e23-4a1b-a94d-f9833cf65487",
   "metadata": {},
   "outputs": [],
   "source": [
    "from PIL import Image, ImageEnhance\n",
    "import os\n",
    "\n",
    "def augment_brightness(image_dir, output_dir, levels=100, min_brightness=0.2):\n",
    "    # Create the output directory if it doesn't exist\n",
    "    os.makedirs(output_dir, exist_ok=True)\n",
    "\n",
    "    # Get the list of image filenames\n",
    "    image_files = os.listdir(image_dir)\n",
    "\n",
    "    for image_file in image_files:\n",
    "        # Check if the file is an image (you can modify the condition based on your image file format)\n",
    "        if image_file.endswith(\".jpg\") or image_file.endswith(\".png\"):\n",
    "            # Load the image\n",
    "            image_path = os.path.join(image_dir, image_file)\n",
    "            image = Image.open(image_path)\n",
    "\n",
    "            # Apply brightness augmentation\n",
    "            for i in range(levels):\n",
    "                brightness_factor = ((i + 1) / levels) * (1 - min_brightness) + min_brightness  # Range: min_brightness to 1.00\n",
    "                enhanced_image = ImageEnhance.Brightness(image).enhance(brightness_factor)\n",
    "\n",
    "                # Save the augmented image\n",
    "                output_file = os.path.splitext(image_file)[0] + f\"_brightness_{i+1}.jpg\"\n",
    "                output_path = os.path.join(output_dir, output_file)\n",
    "                enhanced_image.save(output_path)\n",
    "\n",
    "\n",
    "\n",
    "\n",
    "\n"
   ]
  },
  {
   "cell_type": "code",
   "execution_count": 19,
   "id": "09f33d5b-ca6c-4a47-b22b-77904fa59c74",
   "metadata": {},
   "outputs": [],
   "source": [
    "# Define the input directory containing the original images\n",
    "image_dir = \"../raw_data/task_2/parasite/YOLO_FORMAT_2/valid_aug/images\"\n",
    "\n",
    "# Define the output directory to store augmented images\n",
    "output_dir = \"../raw_data/task_2/parasite/YOLO_FORMAT_2/valid_aug/aug_bright_images\"\n",
    "\n",
    "# Call the function to perform brightness augmentation\n",
    "augment_brightness(image_dir, output_dir, levels=20,min_brightness=0.4)"
   ]
  },
  {
   "cell_type": "markdown",
   "id": "048b20a2-a96c-4e7d-9229-2c123bd4e007",
   "metadata": {},
   "source": [
    "### Now generate the labels"
   ]
  },
  {
   "cell_type": "code",
   "execution_count": 7,
   "id": "5a03ea97-9fb5-43e2-af63-18079aec1057",
   "metadata": {},
   "outputs": [],
   "source": [
    "import os\n",
    "import shutil\n",
    "\n",
    "\n",
    "def duplicate_label_files(label_dir, output_dir, num_duplicates=100):\n",
    "    # Create the output directory if it doesn't exist\n",
    "    os.makedirs(output_dir, exist_ok=True)\n",
    "\n",
    "    # Get the list of label filenames\n",
    "    label_files = os.listdir(label_dir)\n",
    "\n",
    "    for label_file in label_files:\n",
    "        # Check if the file is a label file (you can modify the condition based on your file format)\n",
    "        if label_file.endswith(\".txt\"):\n",
    "            label_path = os.path.join(label_dir, label_file)\n",
    "\n",
    "            # Create duplicates of the label file\n",
    "            for i in range(1, num_duplicates + 1):\n",
    "                new_label_file = os.path.splitext(label_file)[0] + f\"_{i}.txt\"\n",
    "                new_label_path = os.path.join(output_dir, new_label_file)\n",
    "\n",
    "                # Copy the original label file to the new path\n",
    "                shutil.copy(label_path, new_label_path)\n",
    "\n"
   ]
  },
  {
   "cell_type": "code",
   "execution_count": 22,
   "id": "0ec995d6-b1c5-4fc4-a305-47ecf65bb7cd",
   "metadata": {},
   "outputs": [],
   "source": [
    "# Define the input directory containing the original label files\n",
    "label_dir = \"../raw_data/task_2/parasite/YOLO_FORMAT_2/valid_aug/labels\"\n",
    "\n",
    "# Define the output directory to store the duplicated label files\n",
    "output_dir = \"../raw_data/task_2/parasite/YOLO_FORMAT_2/valid_aug/aug_bright_labels\"\n",
    "\n",
    "# Call the function to duplicate the label files\n",
    "duplicate_label_files(label_dir, output_dir, num_duplicates=20)"
   ]
  },
  {
   "cell_type": "markdown",
   "id": "691d6098-406f-4ec5-a178-5178eee8dd96",
   "metadata": {},
   "source": [
    "######### APPLY CONTRAST AND GENERATE GIVEN LABELS"
   ]
  },
  {
   "cell_type": "code",
   "execution_count": 39,
   "id": "350fc078-9e73-495d-ba31-dac9babee89a",
   "metadata": {},
   "outputs": [
    {
     "name": "stdout",
     "output_type": "stream",
     "text": [
      "Contrast adjustment and label copying completed successfully.\n"
     ]
    }
   ],
   "source": [
    "import os\n",
    "import cv2\n",
    "import shutil\n",
    "\n",
    "def apply_contrast_levels(folder_path, subfolder_name, contrast_levels):\n",
    "    # Create a subfolder to store the new images and labels\n",
    "    new_folder_path = os.path.join(folder_path, subfolder_name)\n",
    "    os.makedirs(new_folder_path, exist_ok=True)\n",
    "\n",
    "    # Get a list of all image files in the folder\n",
    "    image_files = [f for f in os.listdir(folder_path) if f.endswith(('.jpg', '.jpeg', '.png'))]\n",
    "\n",
    "    for file_name in image_files:\n",
    "        file_path = os.path.join(folder_path, file_name)\n",
    "        \n",
    "        # Load the image\n",
    "        image = cv2.imread(file_path)\n",
    "        \n",
    "        # Apply contrast levels and save the new images\n",
    "        for index, contrast in enumerate(contrast_levels):\n",
    "            # Apply contrast adjustment\n",
    "            adjusted_image = cv2.convertScaleAbs(image, alpha=contrast, beta=0)\n",
    "            \n",
    "            # Generate the new image name\n",
    "            new_file_name = f\"{os.path.splitext(file_name)[0]}_contrast{index+1}{os.path.splitext(file_name)[1]}\"\n",
    "            \n",
    "            # Save the new image to the subfolder\n",
    "            new_file_path = os.path.join(folder_path, new_file_name)\n",
    "            cv2.imwrite(new_file_path, adjusted_image)\n",
    "            \n",
    "            # Process the corresponding label file\n",
    "            label_folder_path = os.path.join(folder_path, '../labels')\n",
    "            label_file_name = f\"{os.path.splitext(file_name)[0]}.txt\"\n",
    "            label_file_path = os.path.join(label_folder_path, label_file_name)\n",
    "            \n",
    "            if os.path.exists(label_file_path):\n",
    "                # Generate the new label file name\n",
    "                new_label_file_name = f\"{os.path.splitext(file_name)[0]}_contrast{index+1}.txt\"\n",
    "                \n",
    "                # Copy the label file to the subfolder\n",
    "                new_label_file_path_tmp = os.path.join(new_folder_path, 'labels')\n",
    "                os.makedirs(new_label_file_path_tmp, exist_ok=True)\n",
    "                new_label_file_path = os.path.join(label_folder_path, new_label_file_name)\n",
    "                shutil.copy(label_file_path, new_label_file_path)\n",
    "    \n",
    "    print(\"Contrast adjustment and label copying completed successfully.\")\n",
    "\n",
    "\n",
    "\n",
    "\n",
    "# Usage example\n",
    "folder_path = '../raw_data/task_2/parasite/YOLO_FORMAT_2/test/images'\n",
    "subfolder_name = 'contrast_adjusted'\n",
    "label_subfolder_name = 'contrast_adjusted_labels'\n",
    "contrast_levels = [0.5, 0.6, 0.7, 0.8, 0.9, 1.0, 1.1, 1.2, 1.3]\n",
    "\n",
    "apply_contrast_levels(folder_path, subfolder_name, contrast_levels)"
   ]
  },
  {
   "cell_type": "code",
   "execution_count": null,
   "id": "96e1c657-eb85-452c-afe7-5f4ac10bb5b6",
   "metadata": {},
   "outputs": [],
   "source": []
  }
 ],
 "metadata": {
  "kernelspec": {
   "display_name": "Python 3 (ipykernel)",
   "language": "python",
   "name": "python3"
  },
  "language_info": {
   "codemirror_mode": {
    "name": "ipython",
    "version": 3
   },
   "file_extension": ".py",
   "mimetype": "text/x-python",
   "name": "python",
   "nbconvert_exporter": "python",
   "pygments_lexer": "ipython3",
   "version": "3.8.12"
  }
 },
 "nbformat": 4,
 "nbformat_minor": 5
}
