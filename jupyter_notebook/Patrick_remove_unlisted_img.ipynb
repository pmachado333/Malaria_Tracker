{
 "cells": [
  {
   "cell_type": "markdown",
   "id": "6b79ac4d-4953-4990-9489-a0b6c25ee3b5",
   "metadata": {},
   "source": [
    "#### REMOVE IMAGES WITHOUT LABEL FROM GIVEN FOLDER"
   ]
  },
  {
   "cell_type": "code",
   "execution_count": 7,
   "id": "f4da5cb8-2763-470d-a0c3-02763ea905a1",
   "metadata": {},
   "outputs": [],
   "source": [
    "import os "
   ]
  },
  {
   "cell_type": "code",
   "execution_count": 5,
   "id": "a3e2452f-6af8-46cf-b34c-4b1dee0cdcb4",
   "metadata": {},
   "outputs": [
    {
     "name": "stdout",
     "output_type": "stream",
     "text": [
      "/home/pmachado3/code/DDS_bootcamp_project/Malaria_Tracker/jupyter_notebook\n"
     ]
    }
   ],
   "source": [
    "!pwd"
   ]
  },
  {
   "cell_type": "markdown",
   "id": "1ccc1173-ea47-4d66-b971-2563945c2da5",
   "metadata": {},
   "source": [
    "> YOU SHOULD RUN IT TO TRAIN/TEST/VALID FOLDERS"
   ]
  },
  {
   "cell_type": "code",
   "execution_count": 35,
   "id": "45b8a113-004f-460a-974c-d68cbee0692d",
   "metadata": {},
   "outputs": [],
   "source": [
    "root = '/home/pmachado3/code/DDS_bootcamp_project/Malaria_Tracker/raw_data/task_1/vivax_binary/YOLO_FORMAT'\n",
    "path_labels = '/test/labels'\n",
    "path_img = '/test/images'\n",
    "files = os.listdir(root + path_labels)\n",
    "files_img = os.listdir(root + path_img)\n",
    "\n",
    "filesmod = []\n",
    "filesmod_2 = []\n",
    "\n",
    "for file in files:\n",
    "    filesmod.append(file.replace('.txt','.jpg'))\n",
    "    filesmod_2.append(file.replace('.txt','.png'))\n",
    "    \n",
    "filescomplete = filesmod + filesmod_2"
   ]
  },
  {
   "cell_type": "code",
   "execution_count": 36,
   "id": "1be0de58-882a-4c28-9de4-b5bd22536fe7",
   "metadata": {},
   "outputs": [],
   "source": [
    "dontmatch = [file for file in files_img if file not in filescomplete]\n",
    "\n",
    "for file in dontmatch:\n",
    "    try:\n",
    "        os.remove(root + path_img + '/' + file)\n",
    "        pass\n",
    "    except OSError as e:\n",
    "        print(f\"Error deleting the file: {e}\")"
   ]
  },
  {
   "cell_type": "markdown",
   "id": "0f1d754d-78be-44d3-b9b7-f900d22ad830",
   "metadata": {},
   "source": [
    "### FUNCTION TO RESIZE THE IMAGE SIZE KEEPING THE SAME ASPECT RATIO"
   ]
  },
  {
   "cell_type": "code",
   "execution_count": 1,
   "id": "1eb412cf-6861-4b14-9f76-b500042f1a26",
   "metadata": {},
   "outputs": [],
   "source": [
    "from PIL import Image\n",
    "\n",
    "def resize_image(input_image_path, output_image_path, max_size):\n",
    "    original_image = Image.open(input_image_path)\n",
    "    width, height = original_image.size\n",
    "\n",
    "    # Calculate the aspect ratio\n",
    "    aspect_ratio = width / height\n",
    "\n",
    "    # Calculate the new dimensions while maintaining the aspect ratio\n",
    "    if width > height:\n",
    "        new_width = max_size\n",
    "        new_height = int(new_width / aspect_ratio)\n",
    "    else:\n",
    "        new_height = max_size\n",
    "        new_width = int(new_height * aspect_ratio)\n",
    "\n",
    "    # Resize the image\n",
    "    resized_image = original_image.resize((new_width, new_height))\n",
    "\n",
    "    # Save the resized image\n",
    "    resized_image.save(output_image_path)\n",
    "\n"
   ]
  },
  {
   "cell_type": "code",
   "execution_count": 13,
   "id": "974407ed-1efc-4b57-9c99-1dba3e48d030",
   "metadata": {},
   "outputs": [],
   "source": [
    "import os\n",
    "root = '/home/pmachado3/code/DDS_bootcamp_project/Malaria_Tracker/raw_data/task_1/vivax_binary/YOLO_FORMAT'\n",
    "path_labels = '/valid/labels'\n",
    "path_img = '/valid/images'\n",
    "changed = '/valid/changed'\n",
    "files = os.listdir(root + path_labels)\n",
    "files_img = os.listdir(root + path_img)\n",
    "\n",
    "\n",
    "\n",
    "# Example usage\n",
    "input_path = 'input.jpg'  # Replace with your input image path\n",
    "output_path = 'output.jpg'  # Replace with your desired output image path\n",
    "max_size = 500  # Replace with your desired maximum size\n",
    "\n",
    "for currimg in files_img: \n",
    "    resize_image(root + path_img + '/' + currimg, root + changed + '/' +  currimg , 600)\n"
   ]
  },
  {
   "cell_type": "code",
   "execution_count": null,
   "id": "edb9a003-1b7e-4533-ae1d-0774ac8ecbe3",
   "metadata": {},
   "outputs": [],
   "source": []
  }
 ],
 "metadata": {
  "kernelspec": {
   "display_name": "Python 3 (ipykernel)",
   "language": "python",
   "name": "python3"
  },
  "language_info": {
   "codemirror_mode": {
    "name": "ipython",
    "version": 3
   },
   "file_extension": ".py",
   "mimetype": "text/x-python",
   "name": "python",
   "nbconvert_exporter": "python",
   "pygments_lexer": "ipython3",
   "version": "3.8.12"
  }
 },
 "nbformat": 4,
 "nbformat_minor": 5
}
