{
 "cells": [
  {
   "cell_type": "markdown",
   "id": "eca4e80e",
   "metadata": {},
   "source": [
    "# Class imbalence\n",
    "\n",
    "Create augmented images on the undersampled datasets, on disc"
   ]
  },
  {
   "cell_type": "code",
   "execution_count": 1,
   "id": "a10f93f7",
   "metadata": {},
   "outputs": [
    {
     "name": "stderr",
     "output_type": "stream",
     "text": [
      "2023-05-24 17:04:01.881628: I tensorflow/core/platform/cpu_feature_guard.cc:193] This TensorFlow binary is optimized with oneAPI Deep Neural Network Library (oneDNN) to use the following CPU instructions in performance-critical operations:  AVX2 FMA\n",
      "To enable them in other operations, rebuild TensorFlow with the appropriate compiler flags.\n",
      "2023-05-24 17:04:01.990472: W tensorflow/stream_executor/platform/default/dso_loader.cc:64] Could not load dynamic library 'libcudart.so.11.0'; dlerror: libcudart.so.11.0: cannot open shared object file: No such file or directory\n",
      "2023-05-24 17:04:01.990486: I tensorflow/stream_executor/cuda/cudart_stub.cc:29] Ignore above cudart dlerror if you do not have a GPU set up on your machine.\n",
      "2023-05-24 17:04:02.014781: E tensorflow/stream_executor/cuda/cuda_blas.cc:2981] Unable to register cuBLAS factory: Attempting to register factory for plugin cuBLAS when one has already been registered\n",
      "2023-05-24 17:04:02.683526: W tensorflow/stream_executor/platform/default/dso_loader.cc:64] Could not load dynamic library 'libnvinfer.so.7'; dlerror: libnvinfer.so.7: cannot open shared object file: No such file or directory\n",
      "2023-05-24 17:04:02.683618: W tensorflow/stream_executor/platform/default/dso_loader.cc:64] Could not load dynamic library 'libnvinfer_plugin.so.7'; dlerror: libnvinfer_plugin.so.7: cannot open shared object file: No such file or directory\n",
      "2023-05-24 17:04:02.683625: W tensorflow/compiler/tf2tensorrt/utils/py_utils.cc:38] TF-TRT Warning: Cannot dlopen some TensorRT libraries. If you would like to use Nvidia GPU with TensorRT, please make sure the missing libraries mentioned above are installed properly.\n"
     ]
    }
   ],
   "source": [
    "import pandas as pd\n",
    "import numpy as np\n",
    "import matplotlib.pyplot as plt\n",
    "import matplotlib.image as mpimg\n",
    "import seaborn as sns\n",
    "import os\n",
    "import glob\n",
    "import random\n",
    "from skimage import io\n",
    "from tensorflow.keras.preprocessing.image import ImageDataGenerator"
   ]
  },
  {
   "cell_type": "code",
   "execution_count": 27,
   "id": "251f8dd5",
   "metadata": {},
   "outputs": [],
   "source": [
    "\n",
    "def run(direc):\n",
    "   # data = '../raw_data'\n",
    "    data ='/home/kwestre/code/kwestre/project_malaria/Malaria_Tracker/raw_data/'\n",
    "\n",
    "    for root, dirs, files in os.walk(data):\n",
    "        for d in dirs:\n",
    "            if d == direc:\n",
    "                directory = os.path.join(root, d, 'img')\n",
    "                filenames = os.listdir(directory)  \n",
    "    \n",
    "\n",
    "    for file in filenames:\n",
    "        img = io.imread(directory+'/'+file)\n",
    "        img = img.reshape((1,) + img.shape)   \n",
    "\n",
    "        # Create an ImageDataGenerator for augmentation\n",
    "        datagen = ImageDataGenerator(\n",
    "            brightness_range=(0, 2),\n",
    "            horizontal_flip=True\n",
    "        )\n",
    "        \n",
    "        leg = '/home/kwestre/code/kwestre/project_malaria/Malaria_Tracker/raw_data/'\n",
    "        save_dir = leg+direc+'/img/'\n",
    "        aug_iter = datagen.flow(img, batch_size=1, shuffle=False, save_to_dir=save_dir, save_prefix='aug')\n",
    "         \n",
    "        # Generate and save augmented images\n",
    "        num_augmented_images = 1  # Number of augmented images to generate\n",
    "        for i in range(num_augmented_images):\n",
    "            augmented_img = next(aug_iter)[0].astype('uint8')\n",
    "\n",
    "\n",
    "        print(f\"{num_augmented_images} augmented images have been generated and saved to {save_dir}.\")\n",
    " "
   ]
  },
  {
   "cell_type": "code",
   "execution_count": 28,
   "id": "acc12a9b",
   "metadata": {},
   "outputs": [
    {
     "name": "stdout",
     "output_type": "stream",
     "text": [
      "1 augmented images have been generated and saved to /home/kwestre/code/kwestre/project_malaria/Malaria_Tracker/raw_data/Vivax/img/.\n",
      "1 augmented images have been generated and saved to /home/kwestre/code/kwestre/project_malaria/Malaria_Tracker/raw_data/Vivax/img/.\n",
      "1 augmented images have been generated and saved to /home/kwestre/code/kwestre/project_malaria/Malaria_Tracker/raw_data/Vivax/img/.\n",
      "1 augmented images have been generated and saved to /home/kwestre/code/kwestre/project_malaria/Malaria_Tracker/raw_data/Vivax/img/.\n",
      "1 augmented images have been generated and saved to /home/kwestre/code/kwestre/project_malaria/Malaria_Tracker/raw_data/Vivax/img/.\n",
      "1 augmented images have been generated and saved to /home/kwestre/code/kwestre/project_malaria/Malaria_Tracker/raw_data/Vivax/img/.\n",
      "1 augmented images have been generated and saved to /home/kwestre/code/kwestre/project_malaria/Malaria_Tracker/raw_data/Vivax/img/.\n",
      "1 augmented images have been generated and saved to /home/kwestre/code/kwestre/project_malaria/Malaria_Tracker/raw_data/Vivax/img/.\n",
      "1 augmented images have been generated and saved to /home/kwestre/code/kwestre/project_malaria/Malaria_Tracker/raw_data/Vivax/img/.\n",
      "1 augmented images have been generated and saved to /home/kwestre/code/kwestre/project_malaria/Malaria_Tracker/raw_data/Vivax/img/.\n",
      "1 augmented images have been generated and saved to /home/kwestre/code/kwestre/project_malaria/Malaria_Tracker/raw_data/Vivax/img/.\n",
      "1 augmented images have been generated and saved to /home/kwestre/code/kwestre/project_malaria/Malaria_Tracker/raw_data/Vivax/img/.\n",
      "1 augmented images have been generated and saved to /home/kwestre/code/kwestre/project_malaria/Malaria_Tracker/raw_data/Vivax/img/.\n",
      "1 augmented images have been generated and saved to /home/kwestre/code/kwestre/project_malaria/Malaria_Tracker/raw_data/Vivax/img/.\n",
      "1 augmented images have been generated and saved to /home/kwestre/code/kwestre/project_malaria/Malaria_Tracker/raw_data/Vivax/img/.\n",
      "1 augmented images have been generated and saved to /home/kwestre/code/kwestre/project_malaria/Malaria_Tracker/raw_data/Vivax/img/.\n",
      "1 augmented images have been generated and saved to /home/kwestre/code/kwestre/project_malaria/Malaria_Tracker/raw_data/Vivax/img/.\n",
      "1 augmented images have been generated and saved to /home/kwestre/code/kwestre/project_malaria/Malaria_Tracker/raw_data/Vivax/img/.\n",
      "1 augmented images have been generated and saved to /home/kwestre/code/kwestre/project_malaria/Malaria_Tracker/raw_data/Vivax/img/.\n",
      "1 augmented images have been generated and saved to /home/kwestre/code/kwestre/project_malaria/Malaria_Tracker/raw_data/Vivax/img/.\n",
      "1 augmented images have been generated and saved to /home/kwestre/code/kwestre/project_malaria/Malaria_Tracker/raw_data/Vivax/img/.\n",
      "1 augmented images have been generated and saved to /home/kwestre/code/kwestre/project_malaria/Malaria_Tracker/raw_data/Vivax/img/.\n",
      "1 augmented images have been generated and saved to /home/kwestre/code/kwestre/project_malaria/Malaria_Tracker/raw_data/Vivax/img/.\n",
      "1 augmented images have been generated and saved to /home/kwestre/code/kwestre/project_malaria/Malaria_Tracker/raw_data/Vivax/img/.\n",
      "1 augmented images have been generated and saved to /home/kwestre/code/kwestre/project_malaria/Malaria_Tracker/raw_data/Vivax/img/.\n",
      "1 augmented images have been generated and saved to /home/kwestre/code/kwestre/project_malaria/Malaria_Tracker/raw_data/Vivax/img/.\n",
      "1 augmented images have been generated and saved to /home/kwestre/code/kwestre/project_malaria/Malaria_Tracker/raw_data/Vivax/img/.\n",
      "1 augmented images have been generated and saved to /home/kwestre/code/kwestre/project_malaria/Malaria_Tracker/raw_data/Vivax/img/.\n",
      "1 augmented images have been generated and saved to /home/kwestre/code/kwestre/project_malaria/Malaria_Tracker/raw_data/Vivax/img/.\n",
      "1 augmented images have been generated and saved to /home/kwestre/code/kwestre/project_malaria/Malaria_Tracker/raw_data/Vivax/img/.\n",
      "1 augmented images have been generated and saved to /home/kwestre/code/kwestre/project_malaria/Malaria_Tracker/raw_data/Vivax/img/.\n",
      "1 augmented images have been generated and saved to /home/kwestre/code/kwestre/project_malaria/Malaria_Tracker/raw_data/Vivax/img/.\n",
      "1 augmented images have been generated and saved to /home/kwestre/code/kwestre/project_malaria/Malaria_Tracker/raw_data/Vivax/img/.\n",
      "1 augmented images have been generated and saved to /home/kwestre/code/kwestre/project_malaria/Malaria_Tracker/raw_data/Vivax/img/.\n",
      "1 augmented images have been generated and saved to /home/kwestre/code/kwestre/project_malaria/Malaria_Tracker/raw_data/Vivax/img/.\n",
      "1 augmented images have been generated and saved to /home/kwestre/code/kwestre/project_malaria/Malaria_Tracker/raw_data/Vivax/img/.\n",
      "1 augmented images have been generated and saved to /home/kwestre/code/kwestre/project_malaria/Malaria_Tracker/raw_data/Vivax/img/.\n",
      "1 augmented images have been generated and saved to /home/kwestre/code/kwestre/project_malaria/Malaria_Tracker/raw_data/Vivax/img/.\n",
      "1 augmented images have been generated and saved to /home/kwestre/code/kwestre/project_malaria/Malaria_Tracker/raw_data/Vivax/img/.\n",
      "1 augmented images have been generated and saved to /home/kwestre/code/kwestre/project_malaria/Malaria_Tracker/raw_data/Vivax/img/.\n"
     ]
    }
   ],
   "source": [
    "run('Vivax')"
   ]
  },
  {
   "cell_type": "code",
   "execution_count": 29,
   "id": "e46dcc11",
   "metadata": {},
   "outputs": [
    {
     "name": "stdout",
     "output_type": "stream",
     "text": [
      "1 augmented images have been generated and saved to /home/kwestre/code/kwestre/project_malaria/Malaria_Tracker/raw_data/Ovale/img/.\n",
      "1 augmented images have been generated and saved to /home/kwestre/code/kwestre/project_malaria/Malaria_Tracker/raw_data/Ovale/img/.\n",
      "1 augmented images have been generated and saved to /home/kwestre/code/kwestre/project_malaria/Malaria_Tracker/raw_data/Ovale/img/.\n",
      "1 augmented images have been generated and saved to /home/kwestre/code/kwestre/project_malaria/Malaria_Tracker/raw_data/Ovale/img/.\n",
      "1 augmented images have been generated and saved to /home/kwestre/code/kwestre/project_malaria/Malaria_Tracker/raw_data/Ovale/img/.\n",
      "1 augmented images have been generated and saved to /home/kwestre/code/kwestre/project_malaria/Malaria_Tracker/raw_data/Ovale/img/.\n",
      "1 augmented images have been generated and saved to /home/kwestre/code/kwestre/project_malaria/Malaria_Tracker/raw_data/Ovale/img/.\n",
      "1 augmented images have been generated and saved to /home/kwestre/code/kwestre/project_malaria/Malaria_Tracker/raw_data/Ovale/img/.\n",
      "1 augmented images have been generated and saved to /home/kwestre/code/kwestre/project_malaria/Malaria_Tracker/raw_data/Ovale/img/.\n",
      "1 augmented images have been generated and saved to /home/kwestre/code/kwestre/project_malaria/Malaria_Tracker/raw_data/Ovale/img/.\n",
      "1 augmented images have been generated and saved to /home/kwestre/code/kwestre/project_malaria/Malaria_Tracker/raw_data/Ovale/img/.\n",
      "1 augmented images have been generated and saved to /home/kwestre/code/kwestre/project_malaria/Malaria_Tracker/raw_data/Ovale/img/.\n",
      "1 augmented images have been generated and saved to /home/kwestre/code/kwestre/project_malaria/Malaria_Tracker/raw_data/Ovale/img/.\n",
      "1 augmented images have been generated and saved to /home/kwestre/code/kwestre/project_malaria/Malaria_Tracker/raw_data/Ovale/img/.\n",
      "1 augmented images have been generated and saved to /home/kwestre/code/kwestre/project_malaria/Malaria_Tracker/raw_data/Ovale/img/.\n",
      "1 augmented images have been generated and saved to /home/kwestre/code/kwestre/project_malaria/Malaria_Tracker/raw_data/Ovale/img/.\n",
      "1 augmented images have been generated and saved to /home/kwestre/code/kwestre/project_malaria/Malaria_Tracker/raw_data/Ovale/img/.\n",
      "1 augmented images have been generated and saved to /home/kwestre/code/kwestre/project_malaria/Malaria_Tracker/raw_data/Ovale/img/.\n",
      "1 augmented images have been generated and saved to /home/kwestre/code/kwestre/project_malaria/Malaria_Tracker/raw_data/Ovale/img/.\n",
      "1 augmented images have been generated and saved to /home/kwestre/code/kwestre/project_malaria/Malaria_Tracker/raw_data/Ovale/img/.\n",
      "1 augmented images have been generated and saved to /home/kwestre/code/kwestre/project_malaria/Malaria_Tracker/raw_data/Ovale/img/.\n",
      "1 augmented images have been generated and saved to /home/kwestre/code/kwestre/project_malaria/Malaria_Tracker/raw_data/Ovale/img/.\n",
      "1 augmented images have been generated and saved to /home/kwestre/code/kwestre/project_malaria/Malaria_Tracker/raw_data/Ovale/img/.\n",
      "1 augmented images have been generated and saved to /home/kwestre/code/kwestre/project_malaria/Malaria_Tracker/raw_data/Ovale/img/.\n",
      "1 augmented images have been generated and saved to /home/kwestre/code/kwestre/project_malaria/Malaria_Tracker/raw_data/Ovale/img/.\n",
      "1 augmented images have been generated and saved to /home/kwestre/code/kwestre/project_malaria/Malaria_Tracker/raw_data/Ovale/img/.\n",
      "1 augmented images have been generated and saved to /home/kwestre/code/kwestre/project_malaria/Malaria_Tracker/raw_data/Ovale/img/.\n",
      "1 augmented images have been generated and saved to /home/kwestre/code/kwestre/project_malaria/Malaria_Tracker/raw_data/Ovale/img/.\n",
      "1 augmented images have been generated and saved to /home/kwestre/code/kwestre/project_malaria/Malaria_Tracker/raw_data/Ovale/img/.\n"
     ]
    }
   ],
   "source": [
    "run('Ovale')"
   ]
  },
  {
   "cell_type": "code",
   "execution_count": 30,
   "id": "4b72503f",
   "metadata": {},
   "outputs": [
    {
     "name": "stdout",
     "output_type": "stream",
     "text": [
      "1 augmented images have been generated and saved to /home/kwestre/code/kwestre/project_malaria/Malaria_Tracker/raw_data/Malariae/img/.\n",
      "1 augmented images have been generated and saved to /home/kwestre/code/kwestre/project_malaria/Malaria_Tracker/raw_data/Malariae/img/.\n",
      "1 augmented images have been generated and saved to /home/kwestre/code/kwestre/project_malaria/Malaria_Tracker/raw_data/Malariae/img/.\n",
      "1 augmented images have been generated and saved to /home/kwestre/code/kwestre/project_malaria/Malaria_Tracker/raw_data/Malariae/img/.\n",
      "1 augmented images have been generated and saved to /home/kwestre/code/kwestre/project_malaria/Malaria_Tracker/raw_data/Malariae/img/.\n",
      "1 augmented images have been generated and saved to /home/kwestre/code/kwestre/project_malaria/Malaria_Tracker/raw_data/Malariae/img/.\n",
      "1 augmented images have been generated and saved to /home/kwestre/code/kwestre/project_malaria/Malaria_Tracker/raw_data/Malariae/img/.\n",
      "1 augmented images have been generated and saved to /home/kwestre/code/kwestre/project_malaria/Malaria_Tracker/raw_data/Malariae/img/.\n",
      "1 augmented images have been generated and saved to /home/kwestre/code/kwestre/project_malaria/Malaria_Tracker/raw_data/Malariae/img/.\n",
      "1 augmented images have been generated and saved to /home/kwestre/code/kwestre/project_malaria/Malaria_Tracker/raw_data/Malariae/img/.\n",
      "1 augmented images have been generated and saved to /home/kwestre/code/kwestre/project_malaria/Malaria_Tracker/raw_data/Malariae/img/.\n",
      "1 augmented images have been generated and saved to /home/kwestre/code/kwestre/project_malaria/Malaria_Tracker/raw_data/Malariae/img/.\n",
      "1 augmented images have been generated and saved to /home/kwestre/code/kwestre/project_malaria/Malaria_Tracker/raw_data/Malariae/img/.\n",
      "1 augmented images have been generated and saved to /home/kwestre/code/kwestre/project_malaria/Malaria_Tracker/raw_data/Malariae/img/.\n",
      "1 augmented images have been generated and saved to /home/kwestre/code/kwestre/project_malaria/Malaria_Tracker/raw_data/Malariae/img/.\n",
      "1 augmented images have been generated and saved to /home/kwestre/code/kwestre/project_malaria/Malaria_Tracker/raw_data/Malariae/img/.\n",
      "1 augmented images have been generated and saved to /home/kwestre/code/kwestre/project_malaria/Malaria_Tracker/raw_data/Malariae/img/.\n",
      "1 augmented images have been generated and saved to /home/kwestre/code/kwestre/project_malaria/Malaria_Tracker/raw_data/Malariae/img/.\n",
      "1 augmented images have been generated and saved to /home/kwestre/code/kwestre/project_malaria/Malaria_Tracker/raw_data/Malariae/img/.\n",
      "1 augmented images have been generated and saved to /home/kwestre/code/kwestre/project_malaria/Malaria_Tracker/raw_data/Malariae/img/.\n",
      "1 augmented images have been generated and saved to /home/kwestre/code/kwestre/project_malaria/Malaria_Tracker/raw_data/Malariae/img/.\n",
      "1 augmented images have been generated and saved to /home/kwestre/code/kwestre/project_malaria/Malaria_Tracker/raw_data/Malariae/img/.\n",
      "1 augmented images have been generated and saved to /home/kwestre/code/kwestre/project_malaria/Malaria_Tracker/raw_data/Malariae/img/.\n",
      "1 augmented images have been generated and saved to /home/kwestre/code/kwestre/project_malaria/Malaria_Tracker/raw_data/Malariae/img/.\n",
      "1 augmented images have been generated and saved to /home/kwestre/code/kwestre/project_malaria/Malaria_Tracker/raw_data/Malariae/img/.\n",
      "1 augmented images have been generated and saved to /home/kwestre/code/kwestre/project_malaria/Malaria_Tracker/raw_data/Malariae/img/.\n",
      "1 augmented images have been generated and saved to /home/kwestre/code/kwestre/project_malaria/Malaria_Tracker/raw_data/Malariae/img/.\n",
      "1 augmented images have been generated and saved to /home/kwestre/code/kwestre/project_malaria/Malaria_Tracker/raw_data/Malariae/img/.\n",
      "1 augmented images have been generated and saved to /home/kwestre/code/kwestre/project_malaria/Malaria_Tracker/raw_data/Malariae/img/.\n",
      "1 augmented images have been generated and saved to /home/kwestre/code/kwestre/project_malaria/Malaria_Tracker/raw_data/Malariae/img/.\n",
      "1 augmented images have been generated and saved to /home/kwestre/code/kwestre/project_malaria/Malaria_Tracker/raw_data/Malariae/img/.\n",
      "1 augmented images have been generated and saved to /home/kwestre/code/kwestre/project_malaria/Malaria_Tracker/raw_data/Malariae/img/.\n",
      "1 augmented images have been generated and saved to /home/kwestre/code/kwestre/project_malaria/Malaria_Tracker/raw_data/Malariae/img/.\n",
      "1 augmented images have been generated and saved to /home/kwestre/code/kwestre/project_malaria/Malaria_Tracker/raw_data/Malariae/img/.\n",
      "1 augmented images have been generated and saved to /home/kwestre/code/kwestre/project_malaria/Malaria_Tracker/raw_data/Malariae/img/.\n",
      "1 augmented images have been generated and saved to /home/kwestre/code/kwestre/project_malaria/Malaria_Tracker/raw_data/Malariae/img/.\n",
      "1 augmented images have been generated and saved to /home/kwestre/code/kwestre/project_malaria/Malaria_Tracker/raw_data/Malariae/img/.\n"
     ]
    }
   ],
   "source": [
    "run('Malariae')"
   ]
  },
  {
   "cell_type": "code",
   "execution_count": null,
   "id": "03fa5e44",
   "metadata": {},
   "outputs": [],
   "source": []
  }
 ],
 "metadata": {
  "kernelspec": {
   "display_name": "Python 3 (ipykernel)",
   "language": "python",
   "name": "python3"
  },
  "language_info": {
   "codemirror_mode": {
    "name": "ipython",
    "version": 3
   },
   "file_extension": ".py",
   "mimetype": "text/x-python",
   "name": "python",
   "nbconvert_exporter": "python",
   "pygments_lexer": "ipython3",
   "version": "3.8.12"
  },
  "toc": {
   "base_numbering": 1,
   "nav_menu": {},
   "number_sections": true,
   "sideBar": true,
   "skip_h1_title": false,
   "title_cell": "Table of Contents",
   "title_sidebar": "Contents",
   "toc_cell": false,
   "toc_position": {},
   "toc_section_display": true,
   "toc_window_display": false
  }
 },
 "nbformat": 4,
 "nbformat_minor": 5
}
