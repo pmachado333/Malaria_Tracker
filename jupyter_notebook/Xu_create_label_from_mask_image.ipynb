{
 "cells": [
  {
   "cell_type": "markdown",
   "id": "87dd90a7",
   "metadata": {},
   "source": [
    "# Create label from mask image"
   ]
  },
  {
   "cell_type": "code",
   "execution_count": 1,
   "id": "42a5f48f",
   "metadata": {},
   "outputs": [],
   "source": [
    "import os\n",
    "import pandas as pd\n",
    "import numpy as np\n",
    "import matplotlib.pyplot as plt\n",
    "from PIL import Image\n",
    "from skimage import measure\n",
    "from skimage.measure import regionprops_table\n",
    "\n",
    "for spe in ['Falciparum', 'Malariae','Ovale','Vivax']:\n",
    "    path='./Data/four_species/'+ spe +'/gt/'\n",
    "    gts=[file for file in os.listdir(path)]\n",
    "    spe_gt=[]\n",
    "    for gt in gts:\n",
    "        image = Image.open(path + gt)\n",
    "        spe_gt.append(np.array(image))\n",
    "    label_path='./Data/four_species/'+spe+'/label/'\n",
    "    os.mkdir(label_path)\n",
    "    width_img=2592\n",
    "    height_img=1944\n",
    "    for i in range(len(spe_gt)):\n",
    "        labeled_image= measure.label(spe_gt[i])\n",
    "        name_image=gts[i][:-4]\n",
    "        props = regionprops_table(labeled_image, properties=('centroid','bbox'))\n",
    "        df_box=pd.DataFrame(props)\n",
    "        \n",
    "        file_path=label_path+name_image+'.txt'\n",
    "        with open(file_path, 'w') as f:\n",
    "            for j in range(df_box.shape[0]):\n",
    "                if spe == 'Falciparum':\n",
    "                    label=1\n",
    "                elif spe =='Malariae':\n",
    "                    label=2\n",
    "                elif spe == 'Ovale':\n",
    "                    label=3\n",
    "                else:\n",
    "                    label=4\n",
    "                x_yolo=(df_box['bbox-1'][j]+df_box['bbox-3'][j])/2/width_img\n",
    "                \n",
    "                y_yolo=(df_box['bbox-0'][j]+df_box['bbox-2'][j])/2/height_img\n",
    "                w_yolo=(df_box['bbox-3'][j]-df_box['bbox-1'][j])/width_img\n",
    "                h_yolo=(df_box['bbox-2'][j]-df_box['bbox-0'][j])/height_img\n",
    "                line = \"{0} {1:.6f} {2:.6f} {3:.6f} {4:.6f}\\n\".format(label, x_yolo, y_yolo, w_yolo, h_yolo)\n",
    "                \n",
    "                f.write(line)"
   ]
  },
  {
   "cell_type": "code",
   "execution_count": null,
   "id": "12112e89",
   "metadata": {},
   "outputs": [],
   "source": []
  }
 ],
 "metadata": {
  "kernelspec": {
   "display_name": "Python 3 (ipykernel)",
   "language": "python",
   "name": "python3"
  },
  "language_info": {
   "codemirror_mode": {
    "name": "ipython",
    "version": 3
   },
   "file_extension": ".py",
   "mimetype": "text/x-python",
   "name": "python",
   "nbconvert_exporter": "python",
   "pygments_lexer": "ipython3",
   "version": "3.8.12"
  },
  "toc": {
   "base_numbering": 1,
   "nav_menu": {},
   "number_sections": true,
   "sideBar": true,
   "skip_h1_title": false,
   "title_cell": "Table of Contents",
   "title_sidebar": "Contents",
   "toc_cell": false,
   "toc_position": {},
   "toc_section_display": true,
   "toc_window_display": false
  }
 },
 "nbformat": 4,
 "nbformat_minor": 5
}
