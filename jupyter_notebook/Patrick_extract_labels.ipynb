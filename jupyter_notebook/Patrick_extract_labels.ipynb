{
 "cells": [
  {
   "cell_type": "markdown",
   "id": "8f24d39b-7e89-47c6-8e1b-461b5eb8f52e",
   "metadata": {},
   "source": [
    "### Convert json label to YOLOV* format"
   ]
  },
  {
   "cell_type": "code",
   "execution_count": 1,
   "id": "fd22e810-3ee7-441b-b9d6-c8d9586eafda",
   "metadata": {},
   "outputs": [],
   "source": [
    "### This set 0 for non infected cells and 1 to infected cells\n",
    "dict_labels = {'red blood cell':0, 'trophozoite':1, \n",
    "              'ring':1, 'difficult':1, 'schizont':1,\n",
    "              'gametocyte':1, 'leukocyte':0}"
   ]
  },
  {
   "cell_type": "code",
   "execution_count": 5,
   "id": "1d93d194-ff4c-4f9a-a75c-ecc76fc5481e",
   "metadata": {},
   "outputs": [],
   "source": [
    "### This function converts the json to YOLO format given the args\n",
    "import json\n",
    "\n",
    "def convert_labels(json_file, image_width, image_height):\n",
    "    \n",
    "    with open(json_file, 'r') as f:\n",
    "        data = json.load(f)\n",
    "    \n",
    "            \n",
    "    for label in data: ###FOr each image\n",
    "        lines = []\n",
    "        figpath = label['image']['pathname'].replace('.png','.txt')\n",
    "        figpath = figpath.replace('.jpg','.txt')\n",
    "        #print(figpath)\n",
    "        \n",
    "        \n",
    "        for eachobj in label['objects']:\n",
    "            #print(label['objects'])            \n",
    "            bbox = eachobj['bounding_box']\n",
    "            class_label = dict_labels[eachobj['category']]\n",
    "\n",
    "            # Convert bounding box coordinates to YOLO format\n",
    "            \n",
    "            x_center = ((bbox['minimum']['c'] + bbox['maximum']['c']) / 2) / image_width\n",
    "            y_center = ((bbox['minimum']['r'] + bbox['maximum']['r']) / 2) / image_height\n",
    "            width = (bbox['maximum']['c'] - bbox['minimum']['c']) / image_width\n",
    "            height = (bbox['maximum']['r'] - bbox['minimum']['r']) / image_height\n",
    "            \n",
    "            if x_center >=1 or y_center >=1 or width >= 1 or height >=1:\n",
    "                print('azedou')\n",
    "\n",
    "            # Write label to output file\n",
    "            lines.append(f\"{class_label} {x_center} {y_center} {width} {height}\\n\")\n",
    "        \n",
    "        with open(f'../raw_data/task_1/vivax_binary/labels{figpath}', 'w') as f:\n",
    "            for eachline in lines:\n",
    "                f.write(eachline)\n",
    "\n",
    "\n"
   ]
  },
  {
   "cell_type": "code",
   "execution_count": 6,
   "id": "6f695f97-3b52-4d76-b933-092cdd10e9eb",
   "metadata": {},
   "outputs": [
    {
     "name": "stdout",
     "output_type": "stream",
     "text": [
      "/home/pmachado3/code/DDS_bootcamp_project/Malaria_Tracker/jupyter_notebook\n"
     ]
    }
   ],
   "source": [
    "!pwd"
   ]
  },
  {
   "cell_type": "code",
   "execution_count": 7,
   "id": "f412285f-28a6-47b3-8363-a8a266364489",
   "metadata": {},
   "outputs": [],
   "source": [
    "# Usage example\n",
    "json_file = '../raw_data/task_1/vivax_binary/training.json'\n",
    "image_width = 1600\n",
    "image_height = 1200\n",
    "\n",
    "convert_labels(json_file, image_width, image_height)"
   ]
  },
  {
   "cell_type": "code",
   "execution_count": null,
   "id": "f8c04d52-a8f4-4b62-8fc5-c74c4564ed62",
   "metadata": {},
   "outputs": [],
   "source": []
  }
 ],
 "metadata": {
  "kernelspec": {
   "display_name": "Python 3 (ipykernel)",
   "language": "python",
   "name": "python3"
  },
  "language_info": {
   "codemirror_mode": {
    "name": "ipython",
    "version": 3
   },
   "file_extension": ".py",
   "mimetype": "text/x-python",
   "name": "python",
   "nbconvert_exporter": "python",
   "pygments_lexer": "ipython3",
   "version": "3.8.12"
  }
 },
 "nbformat": 4,
 "nbformat_minor": 5
}
